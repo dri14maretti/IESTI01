{
  "nbformat": 4,
  "nbformat_minor": 0,
  "metadata": {
    "colab": {
      "name": "TF_First_Neural_Network_v2.ipynb",
      "provenance": []
    },
    "kernelspec": {
      "name": "python394jvsc74a57bd0ee5cc6fef2d70a7e71ee3826687cbd150f18158e0b1eef11d4f4f92bb920e304",
      "display_name": "Python 3.9.4 64-bit"
    },
    "language_info": {
      "codemirror_mode": {
        "name": "ipython",
        "version": 3
      },
      "file_extension": ".py",
      "mimetype": "text/x-python",
      "name": "python",
      "nbconvert_exporter": "python",
      "pygments_lexer": "ipython3",
      "version": "3.9.4"
    },
    "metadata": {
      "interpreter": {
        "hash": "ee5cc6fef2d70a7e71ee3826687cbd150f18158e0b1eef11d4f4f92bb920e304"
      }
    }
  },
  "cells": [
    {
      "cell_type": "markdown",
      "metadata": {
        "id": "8LXOB7WZMEyN"
      },
      "source": [
        "# TF Neural Network - List 02\n",
        "- ## One layer\n",
        "- ## Two Layers\n",
        "\n",
        "*Adriano Carvalho Maretti *\n",
        "*2020009562*\n"
      ]
    },
    {
      "cell_type": "markdown",
      "metadata": {
        "id": "O9_MLEnwMGLw"
      },
      "source": [
        "## Import Libraries"
      ]
    },
    {
      "cell_type": "code",
      "metadata": {
        "colab": {
          "base_uri": "https://localhost:8080/"
        },
        "id": "QCm3x_4F8bvg",
        "outputId": "f2b5e67b-c061-4c42-f9ca-6928c837d4fd"
      },
      "source": [
        "import tensorflow as tf\n",
        "import numpy as np\n",
        "\n",
        "print(tf.version.VERSION)"
      ],
      "execution_count": 85,
      "outputs": [
        {
          "output_type": "stream",
          "name": "stdout",
          "text": [
            "2.5.0\n"
          ]
        }
      ]
    },
    {
      "cell_type": "markdown",
      "metadata": {
        "id": "TFwzjVOyMYj0"
      },
      "source": [
        "## Dataset"
      ]
    },
    {
      "cell_type": "code",
      "metadata": {
        "id": "o4i0p7efDX2M"
      },
      "source": [
        "# define some training data (xs as inputs and ys as outputs)\n",
        "\n",
        "xs = np.array([-1.0,  0.0, 1.0, 2.0, 3.0, 4.0], dtype=float) \n",
        "ys = np.array([-3.0, -1.0, 1.0, 3.0, 5.0, 7.0], dtype=float)"
      ],
      "execution_count": 105,
      "outputs": []
    },
    {
      "source": [
        "## One Layer:"
      ],
      "cell_type": "markdown",
      "metadata": {}
    },
    {
      "cell_type": "markdown",
      "metadata": {
        "id": "GVMr79-_MiII"
      },
      "source": [
        "- ### Define Model (NN Arquitecture)"
      ]
    },
    {
      "cell_type": "code",
      "metadata": {
        "id": "CLqOZPfC8gfb"
      },
      "source": [
        "# define a neural network with one neuron\n",
        "# for more information on TF functions see: https://www.tensorflow.org/api_docs\n",
        "\n",
        "my_layer = tf.keras.layers.Dense(units=1, input_shape=[1])\n",
        "model = tf.keras.Sequential([my_layer])"
      ],
      "execution_count": 106,
      "outputs": []
    },
    {
      "cell_type": "markdown",
      "metadata": {
        "id": "SaqMbbf5Mos8"
      },
      "source": [
        "- ### Compile Model"
      ]
    },
    {
      "cell_type": "code",
      "metadata": {
        "id": "rUyEy3iMDKy3"
      },
      "source": [
        "# use stochastic gradient descent for optimization and\n",
        "# the mean squared error loss function\n",
        "\n",
        "model.compile(optimizer='sgd', loss='mean_squared_error')"
      ],
      "execution_count": 107,
      "outputs": []
    },
    {
      "cell_type": "code",
      "metadata": {
        "colab": {
          "base_uri": "https://localhost:8080/"
        },
        "id": "B_iL7WpMNCWp",
        "outputId": "de90008e-7b68-4554-ea77-ce1860213750"
      },
      "source": [
        "model.summary()"
      ],
      "execution_count": 108,
      "outputs": [
        {
          "output_type": "stream",
          "name": "stdout",
          "text": [
            "Model: \"sequential_8\"\n_________________________________________________________________\nLayer (type)                 Output Shape              Param #   \n=================================================================\ndense_15 (Dense)             (None, 1)                 2         \n=================================================================\nTotal params: 2\nTrainable params: 2\nNon-trainable params: 0\n_________________________________________________________________\n"
          ]
        }
      ]
    },
    {
      "cell_type": "markdown",
      "metadata": {
        "id": "UsF5wyWpO3fP"
      },
      "source": [
        "Viewing initial weights (parameters)"
      ]
    },
    {
      "cell_type": "code",
      "metadata": {
        "colab": {
          "base_uri": "https://localhost:8080/"
        },
        "id": "foCw7XZhNU8i",
        "outputId": "31ec50e0-ff5f-44b4-ca6f-d2c86f7793e9"
      },
      "source": [
        "model.get_weights() # list of parameters "
      ],
      "execution_count": 109,
      "outputs": [
        {
          "output_type": "execute_result",
          "data": {
            "text/plain": [
              "[array([[1.0694617]], dtype=float32), array([0.], dtype=float32)]"
            ]
          },
          "metadata": {},
          "execution_count": 109
        }
      ]
    },
    {
      "cell_type": "code",
      "metadata": {
        "colab": {
          "base_uri": "https://localhost:8080/"
        },
        "id": "c7Z5OEcDOAEy",
        "outputId": "fc1ba25f-0eb2-49be-e607-22527c9d438f"
      },
      "source": [
        "print(\"wi = \", model.get_weights()[0])\n",
        "print(\"b  = \", model.get_weights()[1])"
      ],
      "execution_count": 110,
      "outputs": [
        {
          "output_type": "stream",
          "name": "stdout",
          "text": [
            "wi =  [[1.0694617]]\nb  =  [0.]\n"
          ]
        }
      ]
    },
    {
      "cell_type": "markdown",
      "metadata": {
        "id": "RDHKYghlNBLh"
      },
      "source": [
        "- ### Training"
      ]
    },
    {
      "cell_type": "code",
      "metadata": {
        "id": "UorrgCYTETFn",
        "tags": [
          "outputPrepend"
        ]
      },
      "source": [
        "# fit the model to the data (aka train the model)\n",
        "\n",
        "history = model.fit(xs, ys, epochs=500)"
      ],
      "execution_count": 111,
      "outputs": [
        {
          "output_type": "stream",
          "name": "stdout",
          "text": [
            "h 260/500\n",
            "1/1 [==============================] - 0s 7ms/step - loss: 0.0037\n",
            "Epoch 261/500\n",
            "1/1 [==============================] - 0s 3ms/step - loss: 0.0036\n",
            "Epoch 262/500\n",
            "1/1 [==============================] - 0s 9ms/step - loss: 0.0035\n",
            "Epoch 263/500\n",
            "1/1 [==============================] - 0s 4ms/step - loss: 0.0034\n",
            "Epoch 264/500\n",
            "1/1 [==============================] - 0s 6ms/step - loss: 0.0034\n",
            "Epoch 265/500\n",
            "1/1 [==============================] - 0s 3ms/step - loss: 0.0033\n",
            "Epoch 266/500\n",
            "1/1 [==============================] - 0s 8ms/step - loss: 0.0032\n",
            "Epoch 267/500\n",
            "1/1 [==============================] - 0s 4ms/step - loss: 0.0032\n",
            "Epoch 268/500\n",
            "1/1 [==============================] - 0s 6ms/step - loss: 0.0031\n",
            "Epoch 269/500\n",
            "1/1 [==============================] - 0s 4ms/step - loss: 0.0030\n",
            "Epoch 270/500\n",
            "1/1 [==============================] - 0s 7ms/step - loss: 0.0030\n",
            "Epoch 271/500\n",
            "1/1 [==============================] - 0s 3ms/step - loss: 0.0029\n",
            "Epoch 272/500\n",
            "1/1 [==============================] - 0s 4ms/step - loss: 0.0029\n",
            "Epoch 273/500\n",
            "1/1 [==============================] - 0s 3ms/step - loss: 0.0028\n",
            "Epoch 274/500\n",
            "1/1 [==============================] - 0s 10ms/step - loss: 0.0027\n",
            "Epoch 275/500\n",
            "1/1 [==============================] - 0s 11ms/step - loss: 0.0027\n",
            "Epoch 276/500\n",
            "1/1 [==============================] - 0s 5ms/step - loss: 0.0026\n",
            "Epoch 277/500\n",
            "1/1 [==============================] - 0s 5ms/step - loss: 0.0026\n",
            "Epoch 278/500\n",
            "1/1 [==============================] - 0s 3ms/step - loss: 0.0025\n",
            "Epoch 279/500\n",
            "1/1 [==============================] - 0s 5ms/step - loss: 0.0025\n",
            "Epoch 280/500\n",
            "1/1 [==============================] - 0s 8ms/step - loss: 0.0024\n",
            "Epoch 281/500\n",
            "1/1 [==============================] - 0s 9ms/step - loss: 0.0024\n",
            "Epoch 282/500\n",
            "1/1 [==============================] - 0s 5ms/step - loss: 0.0023\n",
            "Epoch 283/500\n",
            "1/1 [==============================] - 0s 4ms/step - loss: 0.0023\n",
            "Epoch 284/500\n",
            "1/1 [==============================] - 0s 5ms/step - loss: 0.0022\n",
            "Epoch 285/500\n",
            "1/1 [==============================] - 0s 6ms/step - loss: 0.0022\n",
            "Epoch 286/500\n",
            "1/1 [==============================] - 0s 9ms/step - loss: 0.0021\n",
            "Epoch 287/500\n",
            "1/1 [==============================] - 0s 12ms/step - loss: 0.0021\n",
            "Epoch 288/500\n",
            "1/1 [==============================] - 0s 5ms/step - loss: 0.0020\n",
            "Epoch 289/500\n",
            "1/1 [==============================] - 0s 5ms/step - loss: 0.0020\n",
            "Epoch 290/500\n",
            "1/1 [==============================] - 0s 6ms/step - loss: 0.0020\n",
            "Epoch 291/500\n",
            "1/1 [==============================] - 0s 5ms/step - loss: 0.0019\n",
            "Epoch 292/500\n",
            "1/1 [==============================] - 0s 6ms/step - loss: 0.0019\n",
            "Epoch 293/500\n",
            "1/1 [==============================] - 0s 4ms/step - loss: 0.0018\n",
            "Epoch 294/500\n",
            "1/1 [==============================] - 0s 5ms/step - loss: 0.0018\n",
            "Epoch 295/500\n",
            "1/1 [==============================] - 0s 2ms/step - loss: 0.0018\n",
            "Epoch 296/500\n",
            "1/1 [==============================] - 0s 2ms/step - loss: 0.0017\n",
            "Epoch 297/500\n",
            "1/1 [==============================] - 0s 5ms/step - loss: 0.0017\n",
            "Epoch 298/500\n",
            "1/1 [==============================] - 0s 3ms/step - loss: 0.0017\n",
            "Epoch 299/500\n",
            "1/1 [==============================] - 0s 11ms/step - loss: 0.0016\n",
            "Epoch 300/500\n",
            "1/1 [==============================] - 0s 4ms/step - loss: 0.0016\n",
            "Epoch 301/500\n",
            "1/1 [==============================] - 0s 10ms/step - loss: 0.0016\n",
            "Epoch 302/500\n",
            "1/1 [==============================] - 0s 3ms/step - loss: 0.0015\n",
            "Epoch 303/500\n",
            "1/1 [==============================] - 0s 4ms/step - loss: 0.0015\n",
            "Epoch 304/500\n",
            "1/1 [==============================] - 0s 7ms/step - loss: 0.0015\n",
            "Epoch 305/500\n",
            "1/1 [==============================] - 0s 4ms/step - loss: 0.0014\n",
            "Epoch 306/500\n",
            "1/1 [==============================] - 0s 7ms/step - loss: 0.0014\n",
            "Epoch 307/500\n",
            "1/1 [==============================] - 0s 6ms/step - loss: 0.0014\n",
            "Epoch 308/500\n",
            "1/1 [==============================] - 0s 6ms/step - loss: 0.0014\n",
            "Epoch 309/500\n",
            "1/1 [==============================] - 0s 6ms/step - loss: 0.0013\n",
            "Epoch 310/500\n",
            "1/1 [==============================] - 0s 3ms/step - loss: 0.0013\n",
            "Epoch 311/500\n",
            "1/1 [==============================] - 0s 6ms/step - loss: 0.0013\n",
            "Epoch 312/500\n",
            "1/1 [==============================] - 0s 5ms/step - loss: 0.0012\n",
            "Epoch 313/500\n",
            "1/1 [==============================] - 0s 12ms/step - loss: 0.0012\n",
            "Epoch 314/500\n",
            "1/1 [==============================] - 0s 4ms/step - loss: 0.0012\n",
            "Epoch 315/500\n",
            "1/1 [==============================] - 0s 5ms/step - loss: 0.0012\n",
            "Epoch 316/500\n",
            "1/1 [==============================] - 0s 6ms/step - loss: 0.0011\n",
            "Epoch 317/500\n",
            "1/1 [==============================] - 0s 6ms/step - loss: 0.0011\n",
            "Epoch 318/500\n",
            "1/1 [==============================] - 0s 9ms/step - loss: 0.0011\n",
            "Epoch 319/500\n",
            "1/1 [==============================] - 0s 8ms/step - loss: 0.0011\n",
            "Epoch 320/500\n",
            "1/1 [==============================] - 0s 3ms/step - loss: 0.0011\n",
            "Epoch 321/500\n",
            "1/1 [==============================] - 0s 6ms/step - loss: 0.0010\n",
            "Epoch 322/500\n",
            "1/1 [==============================] - 0s 4ms/step - loss: 0.0010\n",
            "Epoch 323/500\n",
            "1/1 [==============================] - 0s 10ms/step - loss: 9.8953e-04\n",
            "Epoch 324/500\n",
            "1/1 [==============================] - 0s 4ms/step - loss: 9.6920e-04\n",
            "Epoch 325/500\n",
            "1/1 [==============================] - 0s 8ms/step - loss: 9.4930e-04\n",
            "Epoch 326/500\n",
            "1/1 [==============================] - 0s 5ms/step - loss: 9.2980e-04\n",
            "Epoch 327/500\n",
            "1/1 [==============================] - 0s 5ms/step - loss: 9.1070e-04\n",
            "Epoch 328/500\n",
            "1/1 [==============================] - 0s 4ms/step - loss: 8.9199e-04\n",
            "Epoch 329/500\n",
            "1/1 [==============================] - 0s 5ms/step - loss: 8.7367e-04\n",
            "Epoch 330/500\n",
            "1/1 [==============================] - 0s 4ms/step - loss: 8.5572e-04\n",
            "Epoch 331/500\n",
            "1/1 [==============================] - 0s 6ms/step - loss: 8.3815e-04\n",
            "Epoch 332/500\n",
            "1/1 [==============================] - 0s 3ms/step - loss: 8.2093e-04\n",
            "Epoch 333/500\n",
            "1/1 [==============================] - 0s 5ms/step - loss: 8.0407e-04\n",
            "Epoch 334/500\n",
            "1/1 [==============================] - 0s 5ms/step - loss: 7.8755e-04\n",
            "Epoch 335/500\n",
            "1/1 [==============================] - 0s 8ms/step - loss: 7.7138e-04\n",
            "Epoch 336/500\n",
            "1/1 [==============================] - 0s 5ms/step - loss: 7.5553e-04\n",
            "Epoch 337/500\n",
            "1/1 [==============================] - 0s 4ms/step - loss: 7.4001e-04\n",
            "Epoch 338/500\n",
            "1/1 [==============================] - 0s 3ms/step - loss: 7.2481e-04\n",
            "Epoch 339/500\n",
            "1/1 [==============================] - 0s 3ms/step - loss: 7.0993e-04\n",
            "Epoch 340/500\n",
            "1/1 [==============================] - 0s 16ms/step - loss: 6.9534e-04\n",
            "Epoch 341/500\n",
            "1/1 [==============================] - 0s 6ms/step - loss: 6.8106e-04\n",
            "Epoch 342/500\n",
            "1/1 [==============================] - 0s 5ms/step - loss: 6.6707e-04\n",
            "Epoch 343/500\n",
            "1/1 [==============================] - 0s 6ms/step - loss: 6.5336e-04\n",
            "Epoch 344/500\n",
            "1/1 [==============================] - 0s 5ms/step - loss: 6.3994e-04\n",
            "Epoch 345/500\n",
            "1/1 [==============================] - 0s 4ms/step - loss: 6.2680e-04\n",
            "Epoch 346/500\n",
            "1/1 [==============================] - 0s 4ms/step - loss: 6.1392e-04\n",
            "Epoch 347/500\n",
            "1/1 [==============================] - 0s 5ms/step - loss: 6.0131e-04\n",
            "Epoch 348/500\n",
            "1/1 [==============================] - 0s 2ms/step - loss: 5.8896e-04\n",
            "Epoch 349/500\n",
            "1/1 [==============================] - 0s 3ms/step - loss: 5.7686e-04\n",
            "Epoch 350/500\n",
            "1/1 [==============================] - 0s 7ms/step - loss: 5.6501e-04\n",
            "Epoch 351/500\n",
            "1/1 [==============================] - 0s 3ms/step - loss: 5.5341e-04\n",
            "Epoch 352/500\n",
            "1/1 [==============================] - 0s 9ms/step - loss: 5.4204e-04\n",
            "Epoch 353/500\n",
            "1/1 [==============================] - 0s 4ms/step - loss: 5.3091e-04\n",
            "Epoch 354/500\n",
            "1/1 [==============================] - 0s 6ms/step - loss: 5.2000e-04\n",
            "Epoch 355/500\n",
            "1/1 [==============================] - 0s 4ms/step - loss: 5.0932e-04\n",
            "Epoch 356/500\n",
            "1/1 [==============================] - 0s 7ms/step - loss: 4.9886e-04\n",
            "Epoch 357/500\n",
            "1/1 [==============================] - 0s 3ms/step - loss: 4.8861e-04\n",
            "Epoch 358/500\n",
            "1/1 [==============================] - 0s 10ms/step - loss: 4.7858e-04\n",
            "Epoch 359/500\n",
            "1/1 [==============================] - 0s 4ms/step - loss: 4.6875e-04\n",
            "Epoch 360/500\n",
            "1/1 [==============================] - 0s 6ms/step - loss: 4.5912e-04\n",
            "Epoch 361/500\n",
            "1/1 [==============================] - 0s 3ms/step - loss: 4.4969e-04\n",
            "Epoch 362/500\n",
            "1/1 [==============================] - 0s 6ms/step - loss: 4.4045e-04\n",
            "Epoch 363/500\n",
            "1/1 [==============================] - 0s 5ms/step - loss: 4.3140e-04\n",
            "Epoch 364/500\n",
            "1/1 [==============================] - 0s 4ms/step - loss: 4.2254e-04\n",
            "Epoch 365/500\n",
            "1/1 [==============================] - 0s 4ms/step - loss: 4.1386e-04\n",
            "Epoch 366/500\n",
            "1/1 [==============================] - 0s 3ms/step - loss: 4.0536e-04\n",
            "Epoch 367/500\n",
            "1/1 [==============================] - 0s 5ms/step - loss: 3.9704e-04\n",
            "Epoch 368/500\n",
            "1/1 [==============================] - 0s 3ms/step - loss: 3.8888e-04\n",
            "Epoch 369/500\n",
            "1/1 [==============================] - 0s 3ms/step - loss: 3.8089e-04\n",
            "Epoch 370/500\n",
            "1/1 [==============================] - 0s 7ms/step - loss: 3.7307e-04\n",
            "Epoch 371/500\n",
            "1/1 [==============================] - 0s 2ms/step - loss: 3.6541e-04\n",
            "Epoch 372/500\n",
            "1/1 [==============================] - 0s 2ms/step - loss: 3.5790e-04\n",
            "Epoch 373/500\n",
            "1/1 [==============================] - 0s 3ms/step - loss: 3.5055e-04\n",
            "Epoch 374/500\n",
            "1/1 [==============================] - 0s 3ms/step - loss: 3.4335e-04\n",
            "Epoch 375/500\n",
            "1/1 [==============================] - 0s 3ms/step - loss: 3.3630e-04\n",
            "Epoch 376/500\n",
            "1/1 [==============================] - 0s 8ms/step - loss: 3.2939e-04\n",
            "Epoch 377/500\n",
            "1/1 [==============================] - 0s 3ms/step - loss: 3.2262e-04\n",
            "Epoch 378/500\n",
            "1/1 [==============================] - 0s 6ms/step - loss: 3.1599e-04\n",
            "Epoch 379/500\n",
            "1/1 [==============================] - 0s 3ms/step - loss: 3.0950e-04\n",
            "Epoch 380/500\n",
            "1/1 [==============================] - 0s 4ms/step - loss: 3.0315e-04\n",
            "Epoch 381/500\n",
            "1/1 [==============================] - 0s 4ms/step - loss: 2.9692e-04\n",
            "Epoch 382/500\n",
            "1/1 [==============================] - 0s 3ms/step - loss: 2.9082e-04\n",
            "Epoch 383/500\n",
            "1/1 [==============================] - 0s 6ms/step - loss: 2.8485e-04\n",
            "Epoch 384/500\n",
            "1/1 [==============================] - 0s 2ms/step - loss: 2.7900e-04\n",
            "Epoch 385/500\n",
            "1/1 [==============================] - 0s 2ms/step - loss: 2.7327e-04\n",
            "Epoch 386/500\n",
            "1/1 [==============================] - 0s 2ms/step - loss: 2.6765e-04\n",
            "Epoch 387/500\n",
            "1/1 [==============================] - 0s 3ms/step - loss: 2.6216e-04\n",
            "Epoch 388/500\n",
            "1/1 [==============================] - 0s 2ms/step - loss: 2.5677e-04\n",
            "Epoch 389/500\n",
            "1/1 [==============================] - 0s 2ms/step - loss: 2.5150e-04\n",
            "Epoch 390/500\n",
            "1/1 [==============================] - 0s 6ms/step - loss: 2.4633e-04\n",
            "Epoch 391/500\n",
            "1/1 [==============================] - 0s 2ms/step - loss: 2.4127e-04\n",
            "Epoch 392/500\n",
            "1/1 [==============================] - 0s 2ms/step - loss: 2.3631e-04\n",
            "Epoch 393/500\n",
            "1/1 [==============================] - 0s 2ms/step - loss: 2.3146e-04\n",
            "Epoch 394/500\n",
            "1/1 [==============================] - 0s 2ms/step - loss: 2.2670e-04\n",
            "Epoch 395/500\n",
            "1/1 [==============================] - 0s 2ms/step - loss: 2.2205e-04\n",
            "Epoch 396/500\n",
            "1/1 [==============================] - 0s 2ms/step - loss: 2.1749e-04\n",
            "Epoch 397/500\n",
            "1/1 [==============================] - 0s 2ms/step - loss: 2.1302e-04\n",
            "Epoch 398/500\n",
            "1/1 [==============================] - 0s 4ms/step - loss: 2.0864e-04\n",
            "Epoch 399/500\n",
            "1/1 [==============================] - 0s 2ms/step - loss: 2.0436e-04\n",
            "Epoch 400/500\n",
            "1/1 [==============================] - 0s 3ms/step - loss: 2.0016e-04\n",
            "Epoch 401/500\n",
            "1/1 [==============================] - 0s 4ms/step - loss: 1.9605e-04\n",
            "Epoch 402/500\n",
            "1/1 [==============================] - 0s 2ms/step - loss: 1.9202e-04\n",
            "Epoch 403/500\n",
            "1/1 [==============================] - 0s 3ms/step - loss: 1.8808e-04\n",
            "Epoch 404/500\n",
            "1/1 [==============================] - 0s 2ms/step - loss: 1.8422e-04\n",
            "Epoch 405/500\n",
            "1/1 [==============================] - 0s 3ms/step - loss: 1.8043e-04\n",
            "Epoch 406/500\n",
            "1/1 [==============================] - 0s 4ms/step - loss: 1.7672e-04\n",
            "Epoch 407/500\n",
            "1/1 [==============================] - 0s 3ms/step - loss: 1.7310e-04\n",
            "Epoch 408/500\n",
            "1/1 [==============================] - 0s 3ms/step - loss: 1.6954e-04\n",
            "Epoch 409/500\n",
            "1/1 [==============================] - 0s 2ms/step - loss: 1.6606e-04\n",
            "Epoch 410/500\n",
            "1/1 [==============================] - 0s 20ms/step - loss: 1.6265e-04\n",
            "Epoch 411/500\n",
            "1/1 [==============================] - 0s 6ms/step - loss: 1.5931e-04\n",
            "Epoch 412/500\n",
            "1/1 [==============================] - 0s 3ms/step - loss: 1.5603e-04\n",
            "Epoch 413/500\n",
            "1/1 [==============================] - 0s 18ms/step - loss: 1.5283e-04\n",
            "Epoch 414/500\n",
            "1/1 [==============================] - 0s 27ms/step - loss: 1.4969e-04\n",
            "Epoch 415/500\n",
            "1/1 [==============================] - 0s 4ms/step - loss: 1.4661e-04\n",
            "Epoch 416/500\n",
            "1/1 [==============================] - 0s 3ms/step - loss: 1.4360e-04\n",
            "Epoch 417/500\n",
            "1/1 [==============================] - 0s 3ms/step - loss: 1.4065e-04\n",
            "Epoch 418/500\n",
            "1/1 [==============================] - 0s 3ms/step - loss: 1.3776e-04\n",
            "Epoch 419/500\n",
            "1/1 [==============================] - 0s 3ms/step - loss: 1.3494e-04\n",
            "Epoch 420/500\n",
            "1/1 [==============================] - 0s 3ms/step - loss: 1.3216e-04\n",
            "Epoch 421/500\n",
            "1/1 [==============================] - 0s 4ms/step - loss: 1.2945e-04\n",
            "Epoch 422/500\n",
            "1/1 [==============================] - 0s 3ms/step - loss: 1.2679e-04\n",
            "Epoch 423/500\n",
            "1/1 [==============================] - 0s 3ms/step - loss: 1.2419e-04\n",
            "Epoch 424/500\n",
            "1/1 [==============================] - 0s 3ms/step - loss: 1.2164e-04\n",
            "Epoch 425/500\n",
            "1/1 [==============================] - 0s 3ms/step - loss: 1.1914e-04\n",
            "Epoch 426/500\n",
            "1/1 [==============================] - 0s 3ms/step - loss: 1.1669e-04\n",
            "Epoch 427/500\n",
            "1/1 [==============================] - 0s 4ms/step - loss: 1.1429e-04\n",
            "Epoch 428/500\n",
            "1/1 [==============================] - 0s 6ms/step - loss: 1.1194e-04\n",
            "Epoch 429/500\n",
            "1/1 [==============================] - 0s 8ms/step - loss: 1.0965e-04\n",
            "Epoch 430/500\n",
            "1/1 [==============================] - 0s 4ms/step - loss: 1.0739e-04\n",
            "Epoch 431/500\n",
            "1/1 [==============================] - 0s 7ms/step - loss: 1.0519e-04\n",
            "Epoch 432/500\n",
            "1/1 [==============================] - 0s 2ms/step - loss: 1.0303e-04\n",
            "Epoch 433/500\n",
            "1/1 [==============================] - 0s 2ms/step - loss: 1.0091e-04\n",
            "Epoch 434/500\n",
            "1/1 [==============================] - 0s 3ms/step - loss: 9.8837e-05\n",
            "Epoch 435/500\n",
            "1/1 [==============================] - 0s 2ms/step - loss: 9.6807e-05\n",
            "Epoch 436/500\n",
            "1/1 [==============================] - 0s 2ms/step - loss: 9.4819e-05\n",
            "Epoch 437/500\n",
            "1/1 [==============================] - 0s 3ms/step - loss: 9.2871e-05\n",
            "Epoch 438/500\n",
            "1/1 [==============================] - 0s 4ms/step - loss: 9.0963e-05\n",
            "Epoch 439/500\n",
            "1/1 [==============================] - 0s 5ms/step - loss: 8.9096e-05\n",
            "Epoch 440/500\n",
            "1/1 [==============================] - 0s 3ms/step - loss: 8.7266e-05\n",
            "Epoch 441/500\n",
            "1/1 [==============================] - 0s 4ms/step - loss: 8.5474e-05\n",
            "Epoch 442/500\n",
            "1/1 [==============================] - 0s 4ms/step - loss: 8.3718e-05\n",
            "Epoch 443/500\n",
            "1/1 [==============================] - 0s 4ms/step - loss: 8.1997e-05\n",
            "Epoch 444/500\n",
            "1/1 [==============================] - 0s 2ms/step - loss: 8.0313e-05\n",
            "Epoch 445/500\n",
            "1/1 [==============================] - 0s 4ms/step - loss: 7.8663e-05\n",
            "Epoch 446/500\n",
            "1/1 [==============================] - 0s 2ms/step - loss: 7.7048e-05\n",
            "Epoch 447/500\n",
            "1/1 [==============================] - 0s 3ms/step - loss: 7.5465e-05\n",
            "Epoch 448/500\n",
            "1/1 [==============================] - 0s 6ms/step - loss: 7.3915e-05\n",
            "Epoch 449/500\n",
            "1/1 [==============================] - 0s 4ms/step - loss: 7.2396e-05\n",
            "Epoch 450/500\n",
            "1/1 [==============================] - 0s 4ms/step - loss: 7.0910e-05\n",
            "Epoch 451/500\n",
            "1/1 [==============================] - 0s 3ms/step - loss: 6.9452e-05\n",
            "Epoch 452/500\n",
            "1/1 [==============================] - 0s 4ms/step - loss: 6.8026e-05\n",
            "Epoch 453/500\n",
            "1/1 [==============================] - 0s 7ms/step - loss: 6.6629e-05\n",
            "Epoch 454/500\n",
            "1/1 [==============================] - 0s 4ms/step - loss: 6.5260e-05\n",
            "Epoch 455/500\n",
            "1/1 [==============================] - 0s 4ms/step - loss: 6.3920e-05\n",
            "Epoch 456/500\n",
            "1/1 [==============================] - 0s 3ms/step - loss: 6.2608e-05\n",
            "Epoch 457/500\n",
            "1/1 [==============================] - 0s 6ms/step - loss: 6.1322e-05\n",
            "Epoch 458/500\n",
            "1/1 [==============================] - 0s 4ms/step - loss: 6.0062e-05\n",
            "Epoch 459/500\n",
            "1/1 [==============================] - 0s 8ms/step - loss: 5.8829e-05\n",
            "Epoch 460/500\n",
            "1/1 [==============================] - 0s 4ms/step - loss: 5.7620e-05\n",
            "Epoch 461/500\n",
            "1/1 [==============================] - 0s 6ms/step - loss: 5.6436e-05\n",
            "Epoch 462/500\n",
            "1/1 [==============================] - 0s 3ms/step - loss: 5.5277e-05\n",
            "Epoch 463/500\n",
            "1/1 [==============================] - 0s 3ms/step - loss: 5.4141e-05\n",
            "Epoch 464/500\n",
            "1/1 [==============================] - 0s 4ms/step - loss: 5.3029e-05\n",
            "Epoch 465/500\n",
            "1/1 [==============================] - 0s 4ms/step - loss: 5.1939e-05\n",
            "Epoch 466/500\n",
            "1/1 [==============================] - 0s 4ms/step - loss: 5.0872e-05\n",
            "Epoch 467/500\n",
            "1/1 [==============================] - 0s 3ms/step - loss: 4.9827e-05\n",
            "Epoch 468/500\n",
            "1/1 [==============================] - 0s 2ms/step - loss: 4.8804e-05\n",
            "Epoch 469/500\n",
            "1/1 [==============================] - 0s 3ms/step - loss: 4.7801e-05\n",
            "Epoch 470/500\n",
            "1/1 [==============================] - 0s 4ms/step - loss: 4.6819e-05\n",
            "Epoch 471/500\n",
            "1/1 [==============================] - 0s 3ms/step - loss: 4.5857e-05\n",
            "Epoch 472/500\n",
            "1/1 [==============================] - 0s 3ms/step - loss: 4.4915e-05\n",
            "Epoch 473/500\n",
            "1/1 [==============================] - 0s 6ms/step - loss: 4.3993e-05\n",
            "Epoch 474/500\n",
            "1/1 [==============================] - 0s 3ms/step - loss: 4.3089e-05\n",
            "Epoch 475/500\n",
            "1/1 [==============================] - 0s 4ms/step - loss: 4.2204e-05\n",
            "Epoch 476/500\n",
            "1/1 [==============================] - 0s 3ms/step - loss: 4.1337e-05\n",
            "Epoch 477/500\n",
            "1/1 [==============================] - 0s 2ms/step - loss: 4.0487e-05\n",
            "Epoch 478/500\n",
            "1/1 [==============================] - 0s 4ms/step - loss: 3.9656e-05\n",
            "Epoch 479/500\n",
            "1/1 [==============================] - 0s 4ms/step - loss: 3.8841e-05\n",
            "Epoch 480/500\n",
            "1/1 [==============================] - 0s 3ms/step - loss: 3.8043e-05\n",
            "Epoch 481/500\n",
            "1/1 [==============================] - 0s 7ms/step - loss: 3.7262e-05\n",
            "Epoch 482/500\n",
            "1/1 [==============================] - 0s 3ms/step - loss: 3.6496e-05\n",
            "Epoch 483/500\n",
            "1/1 [==============================] - 0s 2ms/step - loss: 3.5747e-05\n",
            "Epoch 484/500\n",
            "1/1 [==============================] - 0s 7ms/step - loss: 3.5012e-05\n",
            "Epoch 485/500\n",
            "1/1 [==============================] - 0s 2ms/step - loss: 3.4293e-05\n",
            "Epoch 486/500\n",
            "1/1 [==============================] - 0s 8ms/step - loss: 3.3588e-05\n",
            "Epoch 487/500\n",
            "1/1 [==============================] - 0s 5ms/step - loss: 3.2898e-05\n",
            "Epoch 488/500\n",
            "1/1 [==============================] - 0s 6ms/step - loss: 3.2223e-05\n",
            "Epoch 489/500\n",
            "1/1 [==============================] - 0s 3ms/step - loss: 3.1561e-05\n",
            "Epoch 490/500\n",
            "1/1 [==============================] - 0s 3ms/step - loss: 3.0912e-05\n",
            "Epoch 491/500\n",
            "1/1 [==============================] - 0s 4ms/step - loss: 3.0277e-05\n",
            "Epoch 492/500\n",
            "1/1 [==============================] - 0s 3ms/step - loss: 2.9656e-05\n",
            "Epoch 493/500\n",
            "1/1 [==============================] - 0s 6ms/step - loss: 2.9047e-05\n",
            "Epoch 494/500\n",
            "1/1 [==============================] - 0s 4ms/step - loss: 2.8450e-05\n",
            "Epoch 495/500\n",
            "1/1 [==============================] - 0s 3ms/step - loss: 2.7866e-05\n",
            "Epoch 496/500\n",
            "1/1 [==============================] - 0s 4ms/step - loss: 2.7294e-05\n",
            "Epoch 497/500\n",
            "1/1 [==============================] - 0s 2ms/step - loss: 2.6733e-05\n",
            "Epoch 498/500\n",
            "1/1 [==============================] - 0s 2ms/step - loss: 2.6184e-05\n",
            "Epoch 499/500\n",
            "1/1 [==============================] - 0s 7ms/step - loss: 2.5646e-05\n",
            "Epoch 500/500\n",
            "1/1 [==============================] - 0s 4ms/step - loss: 2.5119e-05\n"
          ]
        }
      ]
    },
    {
      "cell_type": "markdown",
      "metadata": {
        "id": "93itssi3PgsX"
      },
      "source": [
        "- ### Inspect model"
      ]
    },
    {
      "cell_type": "code",
      "metadata": {
        "colab": {
          "base_uri": "https://localhost:8080/",
          "height": 295
        },
        "id": "vpdU7AZbT0YJ",
        "outputId": "19b1b308-8a64-4600-889a-1bf962fd6816"
      },
      "source": [
        "import matplotlib.pyplot as plt\n",
        "plt.plot(history.history['loss'])\n",
        "plt.title('model loss')\n",
        "plt.ylabel('loss')\n",
        "plt.xlabel('epoch')\n",
        "plt.legend(['train'], loc='upper right')\n",
        "plt.show()"
      ],
      "execution_count": 112,
      "outputs": [
        {
          "output_type": "display_data",
          "data": {
            "text/plain": "<Figure size 432x288 with 1 Axes>",
            "image/svg+xml": "<?xml version=\"1.0\" encoding=\"utf-8\" standalone=\"no\"?>\r\n<!DOCTYPE svg PUBLIC \"-//W3C//DTD SVG 1.1//EN\"\r\n  \"http://www.w3.org/Graphics/SVG/1.1/DTD/svg11.dtd\">\r\n<svg height=\"277.314375pt\" version=\"1.1\" viewBox=\"0 0 385.78125 277.314375\" width=\"385.78125pt\" xmlns=\"http://www.w3.org/2000/svg\" xmlns:xlink=\"http://www.w3.org/1999/xlink\">\r\n <metadata>\r\n  <rdf:RDF xmlns:cc=\"http://creativecommons.org/ns#\" xmlns:dc=\"http://purl.org/dc/elements/1.1/\" xmlns:rdf=\"http://www.w3.org/1999/02/22-rdf-syntax-ns#\">\r\n   <cc:Work>\r\n    <dc:type rdf:resource=\"http://purl.org/dc/dcmitype/StillImage\"/>\r\n    <dc:date>2021-05-26T08:45:05.567025</dc:date>\r\n    <dc:format>image/svg+xml</dc:format>\r\n    <dc:creator>\r\n     <cc:Agent>\r\n      <dc:title>Matplotlib v3.4.2, https://matplotlib.org/</dc:title>\r\n     </cc:Agent>\r\n    </dc:creator>\r\n   </cc:Work>\r\n  </rdf:RDF>\r\n </metadata>\r\n <defs>\r\n  <style type=\"text/css\">*{stroke-linecap:butt;stroke-linejoin:round;}</style>\r\n </defs>\r\n <g id=\"figure_1\">\r\n  <g id=\"patch_1\">\r\n   <path d=\"M 0 277.314375 \r\nL 385.78125 277.314375 \r\nL 385.78125 0 \r\nL 0 0 \r\nz\r\n\" style=\"fill:none;\"/>\r\n  </g>\r\n  <g id=\"axes_1\">\r\n   <g id=\"patch_2\">\r\n    <path d=\"M 43.78125 239.758125 \r\nL 378.58125 239.758125 \r\nL 378.58125 22.318125 \r\nL 43.78125 22.318125 \r\nz\r\n\" style=\"fill:#ffffff;\"/>\r\n   </g>\r\n   <g id=\"matplotlib.axis_1\">\r\n    <g id=\"xtick_1\">\r\n     <g id=\"line2d_1\">\r\n      <defs>\r\n       <path d=\"M 0 0 \r\nL 0 3.5 \r\n\" id=\"mc021f29d63\" style=\"stroke:#000000;stroke-width:0.8;\"/>\r\n      </defs>\r\n      <g>\r\n       <use style=\"stroke:#000000;stroke-width:0.8;\" x=\"58.999432\" xlink:href=\"#mc021f29d63\" y=\"239.758125\"/>\r\n      </g>\r\n     </g>\r\n     <g id=\"text_1\">\r\n      <!-- 0 -->\r\n      <g transform=\"translate(55.818182 254.356562)scale(0.1 -0.1)\">\r\n       <defs>\r\n        <path d=\"M 2034 4250 \r\nQ 1547 4250 1301 3770 \r\nQ 1056 3291 1056 2328 \r\nQ 1056 1369 1301 889 \r\nQ 1547 409 2034 409 \r\nQ 2525 409 2770 889 \r\nQ 3016 1369 3016 2328 \r\nQ 3016 3291 2770 3770 \r\nQ 2525 4250 2034 4250 \r\nz\r\nM 2034 4750 \r\nQ 2819 4750 3233 4129 \r\nQ 3647 3509 3647 2328 \r\nQ 3647 1150 3233 529 \r\nQ 2819 -91 2034 -91 \r\nQ 1250 -91 836 529 \r\nQ 422 1150 422 2328 \r\nQ 422 3509 836 4129 \r\nQ 1250 4750 2034 4750 \r\nz\r\n\" id=\"DejaVuSans-30\" transform=\"scale(0.015625)\"/>\r\n       </defs>\r\n       <use xlink:href=\"#DejaVuSans-30\"/>\r\n      </g>\r\n     </g>\r\n    </g>\r\n    <g id=\"xtick_2\">\r\n     <g id=\"line2d_2\">\r\n      <g>\r\n       <use style=\"stroke:#000000;stroke-width:0.8;\" x=\"119.994149\" xlink:href=\"#mc021f29d63\" y=\"239.758125\"/>\r\n      </g>\r\n     </g>\r\n     <g id=\"text_2\">\r\n      <!-- 100 -->\r\n      <g transform=\"translate(110.450399 254.356562)scale(0.1 -0.1)\">\r\n       <defs>\r\n        <path d=\"M 794 531 \r\nL 1825 531 \r\nL 1825 4091 \r\nL 703 3866 \r\nL 703 4441 \r\nL 1819 4666 \r\nL 2450 4666 \r\nL 2450 531 \r\nL 3481 531 \r\nL 3481 0 \r\nL 794 0 \r\nL 794 531 \r\nz\r\n\" id=\"DejaVuSans-31\" transform=\"scale(0.015625)\"/>\r\n       </defs>\r\n       <use xlink:href=\"#DejaVuSans-31\"/>\r\n       <use x=\"63.623047\" xlink:href=\"#DejaVuSans-30\"/>\r\n       <use x=\"127.246094\" xlink:href=\"#DejaVuSans-30\"/>\r\n      </g>\r\n     </g>\r\n    </g>\r\n    <g id=\"xtick_3\">\r\n     <g id=\"line2d_3\">\r\n      <g>\r\n       <use style=\"stroke:#000000;stroke-width:0.8;\" x=\"180.988865\" xlink:href=\"#mc021f29d63\" y=\"239.758125\"/>\r\n      </g>\r\n     </g>\r\n     <g id=\"text_3\">\r\n      <!-- 200 -->\r\n      <g transform=\"translate(171.445115 254.356562)scale(0.1 -0.1)\">\r\n       <defs>\r\n        <path d=\"M 1228 531 \r\nL 3431 531 \r\nL 3431 0 \r\nL 469 0 \r\nL 469 531 \r\nQ 828 903 1448 1529 \r\nQ 2069 2156 2228 2338 \r\nQ 2531 2678 2651 2914 \r\nQ 2772 3150 2772 3378 \r\nQ 2772 3750 2511 3984 \r\nQ 2250 4219 1831 4219 \r\nQ 1534 4219 1204 4116 \r\nQ 875 4013 500 3803 \r\nL 500 4441 \r\nQ 881 4594 1212 4672 \r\nQ 1544 4750 1819 4750 \r\nQ 2544 4750 2975 4387 \r\nQ 3406 4025 3406 3419 \r\nQ 3406 3131 3298 2873 \r\nQ 3191 2616 2906 2266 \r\nQ 2828 2175 2409 1742 \r\nQ 1991 1309 1228 531 \r\nz\r\n\" id=\"DejaVuSans-32\" transform=\"scale(0.015625)\"/>\r\n       </defs>\r\n       <use xlink:href=\"#DejaVuSans-32\"/>\r\n       <use x=\"63.623047\" xlink:href=\"#DejaVuSans-30\"/>\r\n       <use x=\"127.246094\" xlink:href=\"#DejaVuSans-30\"/>\r\n      </g>\r\n     </g>\r\n    </g>\r\n    <g id=\"xtick_4\">\r\n     <g id=\"line2d_4\">\r\n      <g>\r\n       <use style=\"stroke:#000000;stroke-width:0.8;\" x=\"241.983582\" xlink:href=\"#mc021f29d63\" y=\"239.758125\"/>\r\n      </g>\r\n     </g>\r\n     <g id=\"text_4\">\r\n      <!-- 300 -->\r\n      <g transform=\"translate(232.439832 254.356562)scale(0.1 -0.1)\">\r\n       <defs>\r\n        <path d=\"M 2597 2516 \r\nQ 3050 2419 3304 2112 \r\nQ 3559 1806 3559 1356 \r\nQ 3559 666 3084 287 \r\nQ 2609 -91 1734 -91 \r\nQ 1441 -91 1130 -33 \r\nQ 819 25 488 141 \r\nL 488 750 \r\nQ 750 597 1062 519 \r\nQ 1375 441 1716 441 \r\nQ 2309 441 2620 675 \r\nQ 2931 909 2931 1356 \r\nQ 2931 1769 2642 2001 \r\nQ 2353 2234 1838 2234 \r\nL 1294 2234 \r\nL 1294 2753 \r\nL 1863 2753 \r\nQ 2328 2753 2575 2939 \r\nQ 2822 3125 2822 3475 \r\nQ 2822 3834 2567 4026 \r\nQ 2313 4219 1838 4219 \r\nQ 1578 4219 1281 4162 \r\nQ 984 4106 628 3988 \r\nL 628 4550 \r\nQ 988 4650 1302 4700 \r\nQ 1616 4750 1894 4750 \r\nQ 2613 4750 3031 4423 \r\nQ 3450 4097 3450 3541 \r\nQ 3450 3153 3228 2886 \r\nQ 3006 2619 2597 2516 \r\nz\r\n\" id=\"DejaVuSans-33\" transform=\"scale(0.015625)\"/>\r\n       </defs>\r\n       <use xlink:href=\"#DejaVuSans-33\"/>\r\n       <use x=\"63.623047\" xlink:href=\"#DejaVuSans-30\"/>\r\n       <use x=\"127.246094\" xlink:href=\"#DejaVuSans-30\"/>\r\n      </g>\r\n     </g>\r\n    </g>\r\n    <g id=\"xtick_5\">\r\n     <g id=\"line2d_5\">\r\n      <g>\r\n       <use style=\"stroke:#000000;stroke-width:0.8;\" x=\"302.978299\" xlink:href=\"#mc021f29d63\" y=\"239.758125\"/>\r\n      </g>\r\n     </g>\r\n     <g id=\"text_5\">\r\n      <!-- 400 -->\r\n      <g transform=\"translate(293.434549 254.356562)scale(0.1 -0.1)\">\r\n       <defs>\r\n        <path d=\"M 2419 4116 \r\nL 825 1625 \r\nL 2419 1625 \r\nL 2419 4116 \r\nz\r\nM 2253 4666 \r\nL 3047 4666 \r\nL 3047 1625 \r\nL 3713 1625 \r\nL 3713 1100 \r\nL 3047 1100 \r\nL 3047 0 \r\nL 2419 0 \r\nL 2419 1100 \r\nL 313 1100 \r\nL 313 1709 \r\nL 2253 4666 \r\nz\r\n\" id=\"DejaVuSans-34\" transform=\"scale(0.015625)\"/>\r\n       </defs>\r\n       <use xlink:href=\"#DejaVuSans-34\"/>\r\n       <use x=\"63.623047\" xlink:href=\"#DejaVuSans-30\"/>\r\n       <use x=\"127.246094\" xlink:href=\"#DejaVuSans-30\"/>\r\n      </g>\r\n     </g>\r\n    </g>\r\n    <g id=\"xtick_6\">\r\n     <g id=\"line2d_6\">\r\n      <g>\r\n       <use style=\"stroke:#000000;stroke-width:0.8;\" x=\"363.973015\" xlink:href=\"#mc021f29d63\" y=\"239.758125\"/>\r\n      </g>\r\n     </g>\r\n     <g id=\"text_6\">\r\n      <!-- 500 -->\r\n      <g transform=\"translate(354.429265 254.356562)scale(0.1 -0.1)\">\r\n       <defs>\r\n        <path d=\"M 691 4666 \r\nL 3169 4666 \r\nL 3169 4134 \r\nL 1269 4134 \r\nL 1269 2991 \r\nQ 1406 3038 1543 3061 \r\nQ 1681 3084 1819 3084 \r\nQ 2600 3084 3056 2656 \r\nQ 3513 2228 3513 1497 \r\nQ 3513 744 3044 326 \r\nQ 2575 -91 1722 -91 \r\nQ 1428 -91 1123 -41 \r\nQ 819 9 494 109 \r\nL 494 744 \r\nQ 775 591 1075 516 \r\nQ 1375 441 1709 441 \r\nQ 2250 441 2565 725 \r\nQ 2881 1009 2881 1497 \r\nQ 2881 1984 2565 2268 \r\nQ 2250 2553 1709 2553 \r\nQ 1456 2553 1204 2497 \r\nQ 953 2441 691 2322 \r\nL 691 4666 \r\nz\r\n\" id=\"DejaVuSans-35\" transform=\"scale(0.015625)\"/>\r\n       </defs>\r\n       <use xlink:href=\"#DejaVuSans-35\"/>\r\n       <use x=\"63.623047\" xlink:href=\"#DejaVuSans-30\"/>\r\n       <use x=\"127.246094\" xlink:href=\"#DejaVuSans-30\"/>\r\n      </g>\r\n     </g>\r\n    </g>\r\n    <g id=\"text_7\">\r\n     <!-- epoch -->\r\n     <g transform=\"translate(195.953125 268.034687)scale(0.1 -0.1)\">\r\n      <defs>\r\n       <path d=\"M 3597 1894 \r\nL 3597 1613 \r\nL 953 1613 \r\nQ 991 1019 1311 708 \r\nQ 1631 397 2203 397 \r\nQ 2534 397 2845 478 \r\nQ 3156 559 3463 722 \r\nL 3463 178 \r\nQ 3153 47 2828 -22 \r\nQ 2503 -91 2169 -91 \r\nQ 1331 -91 842 396 \r\nQ 353 884 353 1716 \r\nQ 353 2575 817 3079 \r\nQ 1281 3584 2069 3584 \r\nQ 2775 3584 3186 3129 \r\nQ 3597 2675 3597 1894 \r\nz\r\nM 3022 2063 \r\nQ 3016 2534 2758 2815 \r\nQ 2500 3097 2075 3097 \r\nQ 1594 3097 1305 2825 \r\nQ 1016 2553 972 2059 \r\nL 3022 2063 \r\nz\r\n\" id=\"DejaVuSans-65\" transform=\"scale(0.015625)\"/>\r\n       <path d=\"M 1159 525 \r\nL 1159 -1331 \r\nL 581 -1331 \r\nL 581 3500 \r\nL 1159 3500 \r\nL 1159 2969 \r\nQ 1341 3281 1617 3432 \r\nQ 1894 3584 2278 3584 \r\nQ 2916 3584 3314 3078 \r\nQ 3713 2572 3713 1747 \r\nQ 3713 922 3314 415 \r\nQ 2916 -91 2278 -91 \r\nQ 1894 -91 1617 61 \r\nQ 1341 213 1159 525 \r\nz\r\nM 3116 1747 \r\nQ 3116 2381 2855 2742 \r\nQ 2594 3103 2138 3103 \r\nQ 1681 3103 1420 2742 \r\nQ 1159 2381 1159 1747 \r\nQ 1159 1113 1420 752 \r\nQ 1681 391 2138 391 \r\nQ 2594 391 2855 752 \r\nQ 3116 1113 3116 1747 \r\nz\r\n\" id=\"DejaVuSans-70\" transform=\"scale(0.015625)\"/>\r\n       <path d=\"M 1959 3097 \r\nQ 1497 3097 1228 2736 \r\nQ 959 2375 959 1747 \r\nQ 959 1119 1226 758 \r\nQ 1494 397 1959 397 \r\nQ 2419 397 2687 759 \r\nQ 2956 1122 2956 1747 \r\nQ 2956 2369 2687 2733 \r\nQ 2419 3097 1959 3097 \r\nz\r\nM 1959 3584 \r\nQ 2709 3584 3137 3096 \r\nQ 3566 2609 3566 1747 \r\nQ 3566 888 3137 398 \r\nQ 2709 -91 1959 -91 \r\nQ 1206 -91 779 398 \r\nQ 353 888 353 1747 \r\nQ 353 2609 779 3096 \r\nQ 1206 3584 1959 3584 \r\nz\r\n\" id=\"DejaVuSans-6f\" transform=\"scale(0.015625)\"/>\r\n       <path d=\"M 3122 3366 \r\nL 3122 2828 \r\nQ 2878 2963 2633 3030 \r\nQ 2388 3097 2138 3097 \r\nQ 1578 3097 1268 2742 \r\nQ 959 2388 959 1747 \r\nQ 959 1106 1268 751 \r\nQ 1578 397 2138 397 \r\nQ 2388 397 2633 464 \r\nQ 2878 531 3122 666 \r\nL 3122 134 \r\nQ 2881 22 2623 -34 \r\nQ 2366 -91 2075 -91 \r\nQ 1284 -91 818 406 \r\nQ 353 903 353 1747 \r\nQ 353 2603 823 3093 \r\nQ 1294 3584 2113 3584 \r\nQ 2378 3584 2631 3529 \r\nQ 2884 3475 3122 3366 \r\nz\r\n\" id=\"DejaVuSans-63\" transform=\"scale(0.015625)\"/>\r\n       <path d=\"M 3513 2113 \r\nL 3513 0 \r\nL 2938 0 \r\nL 2938 2094 \r\nQ 2938 2591 2744 2837 \r\nQ 2550 3084 2163 3084 \r\nQ 1697 3084 1428 2787 \r\nQ 1159 2491 1159 1978 \r\nL 1159 0 \r\nL 581 0 \r\nL 581 4863 \r\nL 1159 4863 \r\nL 1159 2956 \r\nQ 1366 3272 1645 3428 \r\nQ 1925 3584 2291 3584 \r\nQ 2894 3584 3203 3211 \r\nQ 3513 2838 3513 2113 \r\nz\r\n\" id=\"DejaVuSans-68\" transform=\"scale(0.015625)\"/>\r\n      </defs>\r\n      <use xlink:href=\"#DejaVuSans-65\"/>\r\n      <use x=\"61.523438\" xlink:href=\"#DejaVuSans-70\"/>\r\n      <use x=\"125\" xlink:href=\"#DejaVuSans-6f\"/>\r\n      <use x=\"186.181641\" xlink:href=\"#DejaVuSans-63\"/>\r\n      <use x=\"241.162109\" xlink:href=\"#DejaVuSans-68\"/>\r\n     </g>\r\n    </g>\r\n   </g>\r\n   <g id=\"matplotlib.axis_2\">\r\n    <g id=\"ytick_1\">\r\n     <g id=\"line2d_7\">\r\n      <defs>\r\n       <path d=\"M 0 0 \r\nL -3.5 0 \r\n\" id=\"m6f0f87d191\" style=\"stroke:#000000;stroke-width:0.8;\"/>\r\n      </defs>\r\n      <g>\r\n       <use style=\"stroke:#000000;stroke-width:0.8;\" x=\"43.78125\" xlink:href=\"#m6f0f87d191\" y=\"229.87634\"/>\r\n      </g>\r\n     </g>\r\n     <g id=\"text_8\">\r\n      <!-- 0.0 -->\r\n      <g transform=\"translate(20.878125 233.675559)scale(0.1 -0.1)\">\r\n       <defs>\r\n        <path d=\"M 684 794 \r\nL 1344 794 \r\nL 1344 0 \r\nL 684 0 \r\nL 684 794 \r\nz\r\n\" id=\"DejaVuSans-2e\" transform=\"scale(0.015625)\"/>\r\n       </defs>\r\n       <use xlink:href=\"#DejaVuSans-30\"/>\r\n       <use x=\"63.623047\" xlink:href=\"#DejaVuSans-2e\"/>\r\n       <use x=\"95.410156\" xlink:href=\"#DejaVuSans-30\"/>\r\n      </g>\r\n     </g>\r\n    </g>\r\n    <g id=\"ytick_2\">\r\n     <g id=\"line2d_8\">\r\n      <g>\r\n       <use style=\"stroke:#000000;stroke-width:0.8;\" x=\"43.78125\" xlink:href=\"#m6f0f87d191\" y=\"193.027137\"/>\r\n      </g>\r\n     </g>\r\n     <g id=\"text_9\">\r\n      <!-- 0.5 -->\r\n      <g transform=\"translate(20.878125 196.826356)scale(0.1 -0.1)\">\r\n       <use xlink:href=\"#DejaVuSans-30\"/>\r\n       <use x=\"63.623047\" xlink:href=\"#DejaVuSans-2e\"/>\r\n       <use x=\"95.410156\" xlink:href=\"#DejaVuSans-35\"/>\r\n      </g>\r\n     </g>\r\n    </g>\r\n    <g id=\"ytick_3\">\r\n     <g id=\"line2d_9\">\r\n      <g>\r\n       <use style=\"stroke:#000000;stroke-width:0.8;\" x=\"43.78125\" xlink:href=\"#m6f0f87d191\" y=\"156.177935\"/>\r\n      </g>\r\n     </g>\r\n     <g id=\"text_10\">\r\n      <!-- 1.0 -->\r\n      <g transform=\"translate(20.878125 159.977154)scale(0.1 -0.1)\">\r\n       <use xlink:href=\"#DejaVuSans-31\"/>\r\n       <use x=\"63.623047\" xlink:href=\"#DejaVuSans-2e\"/>\r\n       <use x=\"95.410156\" xlink:href=\"#DejaVuSans-30\"/>\r\n      </g>\r\n     </g>\r\n    </g>\r\n    <g id=\"ytick_4\">\r\n     <g id=\"line2d_10\">\r\n      <g>\r\n       <use style=\"stroke:#000000;stroke-width:0.8;\" x=\"43.78125\" xlink:href=\"#m6f0f87d191\" y=\"119.328733\"/>\r\n      </g>\r\n     </g>\r\n     <g id=\"text_11\">\r\n      <!-- 1.5 -->\r\n      <g transform=\"translate(20.878125 123.127951)scale(0.1 -0.1)\">\r\n       <use xlink:href=\"#DejaVuSans-31\"/>\r\n       <use x=\"63.623047\" xlink:href=\"#DejaVuSans-2e\"/>\r\n       <use x=\"95.410156\" xlink:href=\"#DejaVuSans-35\"/>\r\n      </g>\r\n     </g>\r\n    </g>\r\n    <g id=\"ytick_5\">\r\n     <g id=\"line2d_11\">\r\n      <g>\r\n       <use style=\"stroke:#000000;stroke-width:0.8;\" x=\"43.78125\" xlink:href=\"#m6f0f87d191\" y=\"82.47953\"/>\r\n      </g>\r\n     </g>\r\n     <g id=\"text_12\">\r\n      <!-- 2.0 -->\r\n      <g transform=\"translate(20.878125 86.278749)scale(0.1 -0.1)\">\r\n       <use xlink:href=\"#DejaVuSans-32\"/>\r\n       <use x=\"63.623047\" xlink:href=\"#DejaVuSans-2e\"/>\r\n       <use x=\"95.410156\" xlink:href=\"#DejaVuSans-30\"/>\r\n      </g>\r\n     </g>\r\n    </g>\r\n    <g id=\"ytick_6\">\r\n     <g id=\"line2d_12\">\r\n      <g>\r\n       <use style=\"stroke:#000000;stroke-width:0.8;\" x=\"43.78125\" xlink:href=\"#m6f0f87d191\" y=\"45.630328\"/>\r\n      </g>\r\n     </g>\r\n     <g id=\"text_13\">\r\n      <!-- 2.5 -->\r\n      <g transform=\"translate(20.878125 49.429547)scale(0.1 -0.1)\">\r\n       <use xlink:href=\"#DejaVuSans-32\"/>\r\n       <use x=\"63.623047\" xlink:href=\"#DejaVuSans-2e\"/>\r\n       <use x=\"95.410156\" xlink:href=\"#DejaVuSans-35\"/>\r\n      </g>\r\n     </g>\r\n    </g>\r\n    <g id=\"text_14\">\r\n     <!-- loss -->\r\n     <g transform=\"translate(14.798438 140.695937)rotate(-90)scale(0.1 -0.1)\">\r\n      <defs>\r\n       <path d=\"M 603 4863 \r\nL 1178 4863 \r\nL 1178 0 \r\nL 603 0 \r\nL 603 4863 \r\nz\r\n\" id=\"DejaVuSans-6c\" transform=\"scale(0.015625)\"/>\r\n       <path d=\"M 2834 3397 \r\nL 2834 2853 \r\nQ 2591 2978 2328 3040 \r\nQ 2066 3103 1784 3103 \r\nQ 1356 3103 1142 2972 \r\nQ 928 2841 928 2578 \r\nQ 928 2378 1081 2264 \r\nQ 1234 2150 1697 2047 \r\nL 1894 2003 \r\nQ 2506 1872 2764 1633 \r\nQ 3022 1394 3022 966 \r\nQ 3022 478 2636 193 \r\nQ 2250 -91 1575 -91 \r\nQ 1294 -91 989 -36 \r\nQ 684 19 347 128 \r\nL 347 722 \r\nQ 666 556 975 473 \r\nQ 1284 391 1588 391 \r\nQ 1994 391 2212 530 \r\nQ 2431 669 2431 922 \r\nQ 2431 1156 2273 1281 \r\nQ 2116 1406 1581 1522 \r\nL 1381 1569 \r\nQ 847 1681 609 1914 \r\nQ 372 2147 372 2553 \r\nQ 372 3047 722 3315 \r\nQ 1072 3584 1716 3584 \r\nQ 2034 3584 2315 3537 \r\nQ 2597 3491 2834 3397 \r\nz\r\n\" id=\"DejaVuSans-73\" transform=\"scale(0.015625)\"/>\r\n      </defs>\r\n      <use xlink:href=\"#DejaVuSans-6c\"/>\r\n      <use x=\"27.783203\" xlink:href=\"#DejaVuSans-6f\"/>\r\n      <use x=\"88.964844\" xlink:href=\"#DejaVuSans-73\"/>\r\n      <use x=\"141.064453\" xlink:href=\"#DejaVuSans-73\"/>\r\n     </g>\r\n    </g>\r\n   </g>\r\n   <g id=\"line2d_13\">\r\n    <path clip-path=\"url(#pb7b6cbc61e)\" d=\"M 58.999432 32.201761 \r\nL 59.609379 63.131341 \r\nL 60.219326 87.695748 \r\nL 60.829273 107.247648 \r\nL 61.43922 122.85131 \r\nL 62.049168 135.344156 \r\nL 62.659115 145.385134 \r\nL 63.269062 153.492715 \r\nL 63.879009 160.074899 \r\nL 65.098903 169.879235 \r\nL 66.318798 176.630637 \r\nL 67.538692 181.464575 \r\nL 68.758586 185.085014 \r\nL 69.978481 187.928782 \r\nL 71.198375 190.267302 \r\nL 73.028217 193.17934 \r\nL 74.858058 195.648284 \r\nL 77.297847 198.521731 \r\nL 79.737635 201.075794 \r\nL 82.787371 203.938699 \r\nL 85.837107 206.502608 \r\nL 88.886843 208.808727 \r\nL 92.546526 211.27616 \r\nL 96.206209 213.454139 \r\nL 99.865892 215.376983 \r\nL 103.525575 217.074652 \r\nL 107.795205 218.805717 \r\nL 112.064835 220.302695 \r\nL 116.944413 221.767313 \r\nL 121.82399 223.007868 \r\nL 127.313515 224.178134 \r\nL 133.412986 225.246111 \r\nL 140.122405 226.191206 \r\nL 147.441771 227.003638 \r\nL 155.981031 227.728012 \r\nL 165.740186 228.335055 \r\nL 177.939129 228.858658 \r\nL 193.187809 229.270618 \r\nL 213.316065 229.57097 \r\nL 242.593529 229.763575 \r\nL 296.26888 229.858186 \r\nL 363.363068 229.874489 \r\nL 363.363068 229.874489 \r\n\" style=\"fill:none;stroke:#1f77b4;stroke-linecap:square;stroke-width:1.5;\"/>\r\n   </g>\r\n   <g id=\"patch_3\">\r\n    <path d=\"M 43.78125 239.758125 \r\nL 43.78125 22.318125 \r\n\" style=\"fill:none;stroke:#000000;stroke-linecap:square;stroke-linejoin:miter;stroke-width:0.8;\"/>\r\n   </g>\r\n   <g id=\"patch_4\">\r\n    <path d=\"M 378.58125 239.758125 \r\nL 378.58125 22.318125 \r\n\" style=\"fill:none;stroke:#000000;stroke-linecap:square;stroke-linejoin:miter;stroke-width:0.8;\"/>\r\n   </g>\r\n   <g id=\"patch_5\">\r\n    <path d=\"M 43.78125 239.758125 \r\nL 378.58125 239.758125 \r\n\" style=\"fill:none;stroke:#000000;stroke-linecap:square;stroke-linejoin:miter;stroke-width:0.8;\"/>\r\n   </g>\r\n   <g id=\"patch_6\">\r\n    <path d=\"M 43.78125 22.318125 \r\nL 378.58125 22.318125 \r\n\" style=\"fill:none;stroke:#000000;stroke-linecap:square;stroke-linejoin:miter;stroke-width:0.8;\"/>\r\n   </g>\r\n   <g id=\"text_15\">\r\n    <!-- model loss -->\r\n    <g transform=\"translate(179.001563 16.318125)scale(0.12 -0.12)\">\r\n     <defs>\r\n      <path d=\"M 3328 2828 \r\nQ 3544 3216 3844 3400 \r\nQ 4144 3584 4550 3584 \r\nQ 5097 3584 5394 3201 \r\nQ 5691 2819 5691 2113 \r\nL 5691 0 \r\nL 5113 0 \r\nL 5113 2094 \r\nQ 5113 2597 4934 2840 \r\nQ 4756 3084 4391 3084 \r\nQ 3944 3084 3684 2787 \r\nQ 3425 2491 3425 1978 \r\nL 3425 0 \r\nL 2847 0 \r\nL 2847 2094 \r\nQ 2847 2600 2669 2842 \r\nQ 2491 3084 2119 3084 \r\nQ 1678 3084 1418 2786 \r\nQ 1159 2488 1159 1978 \r\nL 1159 0 \r\nL 581 0 \r\nL 581 3500 \r\nL 1159 3500 \r\nL 1159 2956 \r\nQ 1356 3278 1631 3431 \r\nQ 1906 3584 2284 3584 \r\nQ 2666 3584 2933 3390 \r\nQ 3200 3197 3328 2828 \r\nz\r\n\" id=\"DejaVuSans-6d\" transform=\"scale(0.015625)\"/>\r\n      <path d=\"M 2906 2969 \r\nL 2906 4863 \r\nL 3481 4863 \r\nL 3481 0 \r\nL 2906 0 \r\nL 2906 525 \r\nQ 2725 213 2448 61 \r\nQ 2172 -91 1784 -91 \r\nQ 1150 -91 751 415 \r\nQ 353 922 353 1747 \r\nQ 353 2572 751 3078 \r\nQ 1150 3584 1784 3584 \r\nQ 2172 3584 2448 3432 \r\nQ 2725 3281 2906 2969 \r\nz\r\nM 947 1747 \r\nQ 947 1113 1208 752 \r\nQ 1469 391 1925 391 \r\nQ 2381 391 2643 752 \r\nQ 2906 1113 2906 1747 \r\nQ 2906 2381 2643 2742 \r\nQ 2381 3103 1925 3103 \r\nQ 1469 3103 1208 2742 \r\nQ 947 2381 947 1747 \r\nz\r\n\" id=\"DejaVuSans-64\" transform=\"scale(0.015625)\"/>\r\n      <path id=\"DejaVuSans-20\" transform=\"scale(0.015625)\"/>\r\n     </defs>\r\n     <use xlink:href=\"#DejaVuSans-6d\"/>\r\n     <use x=\"97.412109\" xlink:href=\"#DejaVuSans-6f\"/>\r\n     <use x=\"158.59375\" xlink:href=\"#DejaVuSans-64\"/>\r\n     <use x=\"222.070312\" xlink:href=\"#DejaVuSans-65\"/>\r\n     <use x=\"283.59375\" xlink:href=\"#DejaVuSans-6c\"/>\r\n     <use x=\"311.376953\" xlink:href=\"#DejaVuSans-20\"/>\r\n     <use x=\"343.164062\" xlink:href=\"#DejaVuSans-6c\"/>\r\n     <use x=\"370.947266\" xlink:href=\"#DejaVuSans-6f\"/>\r\n     <use x=\"432.128906\" xlink:href=\"#DejaVuSans-73\"/>\r\n     <use x=\"484.228516\" xlink:href=\"#DejaVuSans-73\"/>\r\n    </g>\r\n   </g>\r\n   <g id=\"legend_1\">\r\n    <g id=\"patch_7\">\r\n     <path d=\"M 316.30625 44.99625 \r\nL 371.58125 44.99625 \r\nQ 373.58125 44.99625 373.58125 42.99625 \r\nL 373.58125 29.318125 \r\nQ 373.58125 27.318125 371.58125 27.318125 \r\nL 316.30625 27.318125 \r\nQ 314.30625 27.318125 314.30625 29.318125 \r\nL 314.30625 42.99625 \r\nQ 314.30625 44.99625 316.30625 44.99625 \r\nz\r\n\" style=\"fill:#ffffff;opacity:0.8;stroke:#cccccc;stroke-linejoin:miter;\"/>\r\n    </g>\r\n    <g id=\"line2d_14\">\r\n     <path d=\"M 318.30625 35.416562 \r\nL 338.30625 35.416562 \r\n\" style=\"fill:none;stroke:#1f77b4;stroke-linecap:square;stroke-width:1.5;\"/>\r\n    </g>\r\n    <g id=\"line2d_15\"/>\r\n    <g id=\"text_16\">\r\n     <!-- train -->\r\n     <g transform=\"translate(346.30625 38.916562)scale(0.1 -0.1)\">\r\n      <defs>\r\n       <path d=\"M 1172 4494 \r\nL 1172 3500 \r\nL 2356 3500 \r\nL 2356 3053 \r\nL 1172 3053 \r\nL 1172 1153 \r\nQ 1172 725 1289 603 \r\nQ 1406 481 1766 481 \r\nL 2356 481 \r\nL 2356 0 \r\nL 1766 0 \r\nQ 1100 0 847 248 \r\nQ 594 497 594 1153 \r\nL 594 3053 \r\nL 172 3053 \r\nL 172 3500 \r\nL 594 3500 \r\nL 594 4494 \r\nL 1172 4494 \r\nz\r\n\" id=\"DejaVuSans-74\" transform=\"scale(0.015625)\"/>\r\n       <path d=\"M 2631 2963 \r\nQ 2534 3019 2420 3045 \r\nQ 2306 3072 2169 3072 \r\nQ 1681 3072 1420 2755 \r\nQ 1159 2438 1159 1844 \r\nL 1159 0 \r\nL 581 0 \r\nL 581 3500 \r\nL 1159 3500 \r\nL 1159 2956 \r\nQ 1341 3275 1631 3429 \r\nQ 1922 3584 2338 3584 \r\nQ 2397 3584 2469 3576 \r\nQ 2541 3569 2628 3553 \r\nL 2631 2963 \r\nz\r\n\" id=\"DejaVuSans-72\" transform=\"scale(0.015625)\"/>\r\n       <path d=\"M 2194 1759 \r\nQ 1497 1759 1228 1600 \r\nQ 959 1441 959 1056 \r\nQ 959 750 1161 570 \r\nQ 1363 391 1709 391 \r\nQ 2188 391 2477 730 \r\nQ 2766 1069 2766 1631 \r\nL 2766 1759 \r\nL 2194 1759 \r\nz\r\nM 3341 1997 \r\nL 3341 0 \r\nL 2766 0 \r\nL 2766 531 \r\nQ 2569 213 2275 61 \r\nQ 1981 -91 1556 -91 \r\nQ 1019 -91 701 211 \r\nQ 384 513 384 1019 \r\nQ 384 1609 779 1909 \r\nQ 1175 2209 1959 2209 \r\nL 2766 2209 \r\nL 2766 2266 \r\nQ 2766 2663 2505 2880 \r\nQ 2244 3097 1772 3097 \r\nQ 1472 3097 1187 3025 \r\nQ 903 2953 641 2809 \r\nL 641 3341 \r\nQ 956 3463 1253 3523 \r\nQ 1550 3584 1831 3584 \r\nQ 2591 3584 2966 3190 \r\nQ 3341 2797 3341 1997 \r\nz\r\n\" id=\"DejaVuSans-61\" transform=\"scale(0.015625)\"/>\r\n       <path d=\"M 603 3500 \r\nL 1178 3500 \r\nL 1178 0 \r\nL 603 0 \r\nL 603 3500 \r\nz\r\nM 603 4863 \r\nL 1178 4863 \r\nL 1178 4134 \r\nL 603 4134 \r\nL 603 4863 \r\nz\r\n\" id=\"DejaVuSans-69\" transform=\"scale(0.015625)\"/>\r\n       <path d=\"M 3513 2113 \r\nL 3513 0 \r\nL 2938 0 \r\nL 2938 2094 \r\nQ 2938 2591 2744 2837 \r\nQ 2550 3084 2163 3084 \r\nQ 1697 3084 1428 2787 \r\nQ 1159 2491 1159 1978 \r\nL 1159 0 \r\nL 581 0 \r\nL 581 3500 \r\nL 1159 3500 \r\nL 1159 2956 \r\nQ 1366 3272 1645 3428 \r\nQ 1925 3584 2291 3584 \r\nQ 2894 3584 3203 3211 \r\nQ 3513 2838 3513 2113 \r\nz\r\n\" id=\"DejaVuSans-6e\" transform=\"scale(0.015625)\"/>\r\n      </defs>\r\n      <use xlink:href=\"#DejaVuSans-74\"/>\r\n      <use x=\"39.208984\" xlink:href=\"#DejaVuSans-72\"/>\r\n      <use x=\"80.322266\" xlink:href=\"#DejaVuSans-61\"/>\r\n      <use x=\"141.601562\" xlink:href=\"#DejaVuSans-69\"/>\r\n      <use x=\"169.384766\" xlink:href=\"#DejaVuSans-6e\"/>\r\n     </g>\r\n    </g>\r\n   </g>\r\n  </g>\r\n </g>\r\n <defs>\r\n  <clipPath id=\"pb7b6cbc61e\">\r\n   <rect height=\"217.44\" width=\"334.8\" x=\"43.78125\" y=\"22.318125\"/>\r\n  </clipPath>\r\n </defs>\r\n</svg>\r\n",
            "image/png": "[encoded data removed]"
          },
          "metadata": {
            "needs_background": "light"
          }
        }
      ]
    },
    {
      "cell_type": "code",
      "metadata": {
        "colab": {
          "base_uri": "https://localhost:8080/"
        },
        "id": "Knk6L2pzPjo_",
        "outputId": "dcabe117-bd92-4def-b446-0a7ead4f2073"
      },
      "source": [
        "print(\"wi = \", model.get_weights()[0])\n",
        "print(\"b  = \", model.get_weights()[1])"
      ],
      "execution_count": 113,
      "outputs": [
        {
          "output_type": "stream",
          "name": "stdout",
          "text": [
            "wi =  [[1.9978807]]\nb  =  [-0.9934295]\n"
          ]
        }
      ]
    },
    {
      "cell_type": "markdown",
      "metadata": {
        "id": "_oli3anGPV4z"
      },
      "source": [
        "- ### Test model"
      ]
    },
    {
      "cell_type": "code",
      "metadata": {
        "colab": {
          "base_uri": "https://localhost:8080/"
        },
        "id": "nidfsvPCEWlE",
        "outputId": "ccd09810-8af7-4fb0-8f36-97e42a8be3d3"
      },
      "source": [
        "# Predict the output of a new data (Inference)\n",
        "\n",
        "print(model.predict([10.0]))"
      ],
      "execution_count": 114,
      "outputs": [
        {
          "output_type": "stream",
          "name": "stdout",
          "text": [
            "[[18.985378]]\n"
          ]
        }
      ]
    },
    {
      "source": [
        "## Two Layers\n"
      ],
      "cell_type": "markdown",
      "metadata": {}
    },
    {
      "source": [
        "- ### Define Model"
      ],
      "cell_type": "markdown",
      "metadata": {}
    },
    {
      "cell_type": "code",
      "execution_count": 149,
      "metadata": {},
      "outputs": [],
      "source": [
        "my_layer_1 = tf.keras.layers.Dense(units=2, input_shape=[1])\n",
        "my_layer_2 = tf.keras.layers.Dense(units=1)\n",
        "\n",
        "model = tf.keras.Sequential([my_layer_1, my_layer_2])"
      ]
    },
    {
      "source": [
        "- ### Compiling Model"
      ],
      "cell_type": "markdown",
      "metadata": {}
    },
    {
      "cell_type": "code",
      "execution_count": 150,
      "metadata": {},
      "outputs": [],
      "source": [
        "model.compile(optimizer='sgd', loss='mean_squared_error')"
      ]
    },
    {
      "cell_type": "code",
      "execution_count": 151,
      "metadata": {
        "tags": [
          "outputPrepend"
        ]
      },
      "outputs": [
        {
          "output_type": "stream",
          "name": "stdout",
          "text": [
            "\n",
            "Epoch 263/500\n",
            "1/1 [==============================] - 0s 5ms/step - loss: 3.8736e-07\n",
            "Epoch 264/500\n",
            "1/1 [==============================] - 0s 3ms/step - loss: 3.6517e-07\n",
            "Epoch 265/500\n",
            "1/1 [==============================] - 0s 4ms/step - loss: 3.4410e-07\n",
            "Epoch 266/500\n",
            "1/1 [==============================] - 0s 6ms/step - loss: 3.2425e-07\n",
            "Epoch 267/500\n",
            "1/1 [==============================] - 0s 3ms/step - loss: 3.0548e-07\n",
            "Epoch 268/500\n",
            "1/1 [==============================] - 0s 2ms/step - loss: 2.8793e-07\n",
            "Epoch 269/500\n",
            "1/1 [==============================] - 0s 3ms/step - loss: 2.7125e-07\n",
            "Epoch 270/500\n",
            "1/1 [==============================] - 0s 6ms/step - loss: 2.5571e-07\n",
            "Epoch 271/500\n",
            "1/1 [==============================] - 0s 3ms/step - loss: 2.4086e-07\n",
            "Epoch 272/500\n",
            "1/1 [==============================] - 0s 4ms/step - loss: 2.2706e-07\n",
            "Epoch 273/500\n",
            "1/1 [==============================] - 0s 10ms/step - loss: 2.1388e-07\n",
            "Epoch 274/500\n",
            "1/1 [==============================] - 0s 4ms/step - loss: 2.0165e-07\n",
            "Epoch 275/500\n",
            "1/1 [==============================] - 0s 4ms/step - loss: 1.8994e-07\n",
            "Epoch 276/500\n",
            "1/1 [==============================] - 0s 3ms/step - loss: 1.7906e-07\n",
            "Epoch 277/500\n",
            "1/1 [==============================] - 0s 15ms/step - loss: 1.6874e-07\n",
            "Epoch 278/500\n",
            "1/1 [==============================] - 0s 4ms/step - loss: 1.5897e-07\n",
            "Epoch 279/500\n",
            "1/1 [==============================] - 0s 4ms/step - loss: 1.4973e-07\n",
            "Epoch 280/500\n",
            "1/1 [==============================] - 0s 7ms/step - loss: 1.4112e-07\n",
            "Epoch 281/500\n",
            "1/1 [==============================] - 0s 7ms/step - loss: 1.3298e-07\n",
            "Epoch 282/500\n",
            "1/1 [==============================] - 0s 5ms/step - loss: 1.2536e-07\n",
            "Epoch 283/500\n",
            "1/1 [==============================] - 0s 3ms/step - loss: 1.1814e-07\n",
            "Epoch 284/500\n",
            "1/1 [==============================] - 0s 7ms/step - loss: 1.1124e-07\n",
            "Epoch 285/500\n",
            "1/1 [==============================] - 0s 6ms/step - loss: 1.0479e-07\n",
            "Epoch 286/500\n",
            "1/1 [==============================] - 0s 3ms/step - loss: 9.8809e-08\n",
            "Epoch 287/500\n",
            "1/1 [==============================] - 0s 4ms/step - loss: 9.3110e-08\n",
            "Epoch 288/500\n",
            "1/1 [==============================] - 0s 6ms/step - loss: 8.7733e-08\n",
            "Epoch 289/500\n",
            "1/1 [==============================] - 0s 8ms/step - loss: 8.2667e-08\n",
            "Epoch 290/500\n",
            "1/1 [==============================] - 0s 5ms/step - loss: 7.7895e-08\n",
            "Epoch 291/500\n",
            "1/1 [==============================] - 0s 5ms/step - loss: 7.3414e-08\n",
            "Epoch 292/500\n",
            "1/1 [==============================] - 0s 6ms/step - loss: 6.9208e-08\n",
            "Epoch 293/500\n",
            "1/1 [==============================] - 0s 4ms/step - loss: 6.5170e-08\n",
            "Epoch 294/500\n",
            "1/1 [==============================] - 0s 4ms/step - loss: 6.1407e-08\n",
            "Epoch 295/500\n",
            "1/1 [==============================] - 0s 6ms/step - loss: 5.7899e-08\n",
            "Epoch 296/500\n",
            "1/1 [==============================] - 0s 7ms/step - loss: 5.4535e-08\n",
            "Epoch 297/500\n",
            "1/1 [==============================] - 0s 4ms/step - loss: 5.1423e-08\n",
            "Epoch 298/500\n",
            "1/1 [==============================] - 0s 7ms/step - loss: 4.8471e-08\n",
            "Epoch 299/500\n",
            "1/1 [==============================] - 0s 5ms/step - loss: 4.5645e-08\n",
            "Epoch 300/500\n",
            "1/1 [==============================] - 0s 4ms/step - loss: 4.2990e-08\n",
            "Epoch 301/500\n",
            "1/1 [==============================] - 0s 3ms/step - loss: 4.0559e-08\n",
            "Epoch 302/500\n",
            "1/1 [==============================] - 0s 3ms/step - loss: 3.8199e-08\n",
            "Epoch 303/500\n",
            "1/1 [==============================] - 0s 4ms/step - loss: 3.5994e-08\n",
            "Epoch 304/500\n",
            "1/1 [==============================] - 0s 4ms/step - loss: 3.3944e-08\n",
            "Epoch 305/500\n",
            "1/1 [==============================] - 0s 5ms/step - loss: 3.1955e-08\n",
            "Epoch 306/500\n",
            "1/1 [==============================] - 0s 3ms/step - loss: 3.0121e-08\n",
            "Epoch 307/500\n",
            "1/1 [==============================] - 0s 2ms/step - loss: 2.8408e-08\n",
            "Epoch 308/500\n",
            "1/1 [==============================] - 0s 3ms/step - loss: 2.6732e-08\n",
            "Epoch 309/500\n",
            "1/1 [==============================] - 0s 3ms/step - loss: 2.5188e-08\n",
            "Epoch 310/500\n",
            "1/1 [==============================] - 0s 7ms/step - loss: 2.3743e-08\n",
            "Epoch 311/500\n",
            "1/1 [==============================] - 0s 5ms/step - loss: 2.2395e-08\n",
            "Epoch 312/500\n",
            "1/1 [==============================] - 0s 3ms/step - loss: 2.1084e-08\n",
            "Epoch 313/500\n",
            "1/1 [==============================] - 0s 5ms/step - loss: 1.9866e-08\n",
            "Epoch 314/500\n",
            "1/1 [==============================] - 0s 5ms/step - loss: 1.8730e-08\n",
            "Epoch 315/500\n",
            "1/1 [==============================] - 0s 3ms/step - loss: 1.7654e-08\n",
            "Epoch 316/500\n",
            "1/1 [==============================] - 0s 5ms/step - loss: 1.6646e-08\n",
            "Epoch 317/500\n",
            "1/1 [==============================] - 0s 4ms/step - loss: 1.5699e-08\n",
            "Epoch 318/500\n",
            "1/1 [==============================] - 0s 5ms/step - loss: 1.4791e-08\n",
            "Epoch 319/500\n",
            "1/1 [==============================] - 0s 3ms/step - loss: 1.3912e-08\n",
            "Epoch 320/500\n",
            "1/1 [==============================] - 0s 3ms/step - loss: 1.3134e-08\n",
            "Epoch 321/500\n",
            "1/1 [==============================] - 0s 4ms/step - loss: 1.2390e-08\n",
            "Epoch 322/500\n",
            "1/1 [==============================] - 0s 6ms/step - loss: 1.1658e-08\n",
            "Epoch 323/500\n",
            "1/1 [==============================] - 0s 3ms/step - loss: 1.0968e-08\n",
            "Epoch 324/500\n",
            "1/1 [==============================] - 0s 3ms/step - loss: 1.0365e-08\n",
            "Epoch 325/500\n",
            "1/1 [==============================] - 0s 5ms/step - loss: 9.7516e-09\n",
            "Epoch 326/500\n",
            "1/1 [==============================] - 0s 29ms/step - loss: 9.2015e-09\n",
            "Epoch 327/500\n",
            "1/1 [==============================] - 0s 9ms/step - loss: 8.6856e-09\n",
            "Epoch 328/500\n",
            "1/1 [==============================] - 0s 4ms/step - loss: 8.1699e-09\n",
            "Epoch 329/500\n",
            "1/1 [==============================] - 0s 3ms/step - loss: 7.6908e-09\n",
            "Epoch 330/500\n",
            "1/1 [==============================] - 0s 6ms/step - loss: 7.2534e-09\n",
            "Epoch 331/500\n",
            "1/1 [==============================] - 0s 10ms/step - loss: 6.8406e-09\n",
            "Epoch 332/500\n",
            "1/1 [==============================] - 0s 5ms/step - loss: 6.4637e-09\n",
            "Epoch 333/500\n",
            "1/1 [==============================] - 0s 5ms/step - loss: 6.0794e-09\n",
            "Epoch 334/500\n",
            "1/1 [==============================] - 0s 10ms/step - loss: 5.7284e-09\n",
            "Epoch 335/500\n",
            "1/1 [==============================] - 0s 4ms/step - loss: 5.4023e-09\n",
            "Epoch 336/500\n",
            "1/1 [==============================] - 0s 4ms/step - loss: 5.0864e-09\n",
            "Epoch 337/500\n",
            "1/1 [==============================] - 0s 4ms/step - loss: 4.7970e-09\n",
            "Epoch 338/500\n",
            "1/1 [==============================] - 0s 5ms/step - loss: 4.5202e-09\n",
            "Epoch 339/500\n",
            "1/1 [==============================] - 0s 10ms/step - loss: 4.2513e-09\n",
            "Epoch 340/500\n",
            "1/1 [==============================] - 0s 4ms/step - loss: 3.9988e-09\n",
            "Epoch 341/500\n",
            "1/1 [==============================] - 0s 9ms/step - loss: 3.7827e-09\n",
            "Epoch 342/500\n",
            "1/1 [==============================] - 0s 5ms/step - loss: 3.5605e-09\n",
            "Epoch 343/500\n",
            "1/1 [==============================] - 0s 4ms/step - loss: 3.3603e-09\n",
            "Epoch 344/500\n",
            "1/1 [==============================] - 0s 5ms/step - loss: 3.1701e-09\n",
            "Epoch 345/500\n",
            "1/1 [==============================] - 0s 6ms/step - loss: 2.9804e-09\n",
            "Epoch 346/500\n",
            "1/1 [==============================] - 0s 5ms/step - loss: 2.8153e-09\n",
            "Epoch 347/500\n",
            "1/1 [==============================] - 0s 4ms/step - loss: 2.6429e-09\n",
            "Epoch 348/500\n",
            "1/1 [==============================] - 0s 4ms/step - loss: 2.4868e-09\n",
            "Epoch 349/500\n",
            "1/1 [==============================] - 0s 4ms/step - loss: 2.3542e-09\n",
            "Epoch 350/500\n",
            "1/1 [==============================] - 0s 6ms/step - loss: 2.2080e-09\n",
            "Epoch 351/500\n",
            "1/1 [==============================] - 0s 4ms/step - loss: 2.0873e-09\n",
            "Epoch 352/500\n",
            "1/1 [==============================] - 0s 3ms/step - loss: 1.9681e-09\n",
            "Epoch 353/500\n",
            "1/1 [==============================] - 0s 5ms/step - loss: 1.8514e-09\n",
            "Epoch 354/500\n",
            "1/1 [==============================] - 0s 8ms/step - loss: 1.7443e-09\n",
            "Epoch 355/500\n",
            "1/1 [==============================] - 0s 7ms/step - loss: 1.6499e-09\n",
            "Epoch 356/500\n",
            "1/1 [==============================] - 0s 4ms/step - loss: 1.5593e-09\n",
            "Epoch 357/500\n",
            "1/1 [==============================] - 0s 6ms/step - loss: 1.4698e-09\n",
            "Epoch 358/500\n",
            "1/1 [==============================] - 0s 5ms/step - loss: 1.3801e-09\n",
            "Epoch 359/500\n",
            "1/1 [==============================] - 0s 5ms/step - loss: 1.3087e-09\n",
            "Epoch 360/500\n",
            "1/1 [==============================] - 0s 5ms/step - loss: 1.2321e-09\n",
            "Epoch 361/500\n",
            "1/1 [==============================] - 0s 7ms/step - loss: 1.1583e-09\n",
            "Epoch 362/500\n",
            "1/1 [==============================] - 0s 7ms/step - loss: 1.0929e-09\n",
            "Epoch 363/500\n",
            "1/1 [==============================] - 0s 3ms/step - loss: 1.0253e-09\n",
            "Epoch 364/500\n",
            "1/1 [==============================] - 0s 3ms/step - loss: 9.6568e-10\n",
            "Epoch 365/500\n",
            "1/1 [==============================] - 0s 4ms/step - loss: 9.1622e-10\n",
            "Epoch 366/500\n",
            "1/1 [==============================] - 0s 6ms/step - loss: 8.5876e-10\n",
            "Epoch 367/500\n",
            "1/1 [==============================] - 0s 8ms/step - loss: 8.0822e-10\n",
            "Epoch 368/500\n",
            "1/1 [==============================] - 0s 6ms/step - loss: 7.6368e-10\n",
            "Epoch 369/500\n",
            "1/1 [==============================] - 0s 6ms/step - loss: 7.2170e-10\n",
            "Epoch 370/500\n",
            "1/1 [==============================] - 0s 8ms/step - loss: 6.8307e-10\n",
            "Epoch 371/500\n",
            "1/1 [==============================] - 0s 5ms/step - loss: 6.3961e-10\n",
            "Epoch 372/500\n",
            "1/1 [==============================] - 0s 5ms/step - loss: 6.0610e-10\n",
            "Epoch 373/500\n",
            "1/1 [==============================] - 0s 7ms/step - loss: 5.6668e-10\n",
            "Epoch 374/500\n",
            "1/1 [==============================] - 0s 3ms/step - loss: 5.3792e-10\n",
            "Epoch 375/500\n",
            "1/1 [==============================] - 0s 4ms/step - loss: 5.0649e-10\n",
            "Epoch 376/500\n",
            "1/1 [==============================] - 0s 9ms/step - loss: 4.8464e-10\n",
            "Epoch 377/500\n",
            "1/1 [==============================] - 0s 5ms/step - loss: 4.5005e-10\n",
            "Epoch 378/500\n",
            "1/1 [==============================] - 0s 5ms/step - loss: 4.2700e-10\n",
            "Epoch 379/500\n",
            "1/1 [==============================] - 0s 4ms/step - loss: 4.0020e-10\n",
            "Epoch 380/500\n",
            "1/1 [==============================] - 0s 4ms/step - loss: 3.7836e-10\n",
            "Epoch 381/500\n",
            "1/1 [==============================] - 0s 4ms/step - loss: 3.5659e-10\n",
            "Epoch 382/500\n",
            "1/1 [==============================] - 0s 4ms/step - loss: 3.3689e-10\n",
            "Epoch 383/500\n",
            "1/1 [==============================] - 0s 2ms/step - loss: 3.1660e-10\n",
            "Epoch 384/500\n",
            "1/1 [==============================] - 0s 3ms/step - loss: 3.0107e-10\n",
            "Epoch 385/500\n",
            "1/1 [==============================] - 0s 4ms/step - loss: 2.8370e-10\n",
            "Epoch 386/500\n",
            "1/1 [==============================] - 0s 4ms/step - loss: 2.6330e-10\n",
            "Epoch 387/500\n",
            "1/1 [==============================] - 0s 3ms/step - loss: 2.5141e-10\n",
            "Epoch 388/500\n",
            "1/1 [==============================] - 0s 3ms/step - loss: 2.3621e-10\n",
            "Epoch 389/500\n",
            "1/1 [==============================] - 0s 2ms/step - loss: 2.2034e-10\n",
            "Epoch 390/500\n",
            "1/1 [==============================] - 0s 4ms/step - loss: 2.0564e-10\n",
            "Epoch 391/500\n",
            "1/1 [==============================] - 0s 4ms/step - loss: 1.9482e-10\n",
            "Epoch 392/500\n",
            "1/1 [==============================] - 0s 4ms/step - loss: 1.8525e-10\n",
            "Epoch 393/500\n",
            "1/1 [==============================] - 0s 4ms/step - loss: 1.7379e-10\n",
            "Epoch 394/500\n",
            "1/1 [==============================] - 0s 3ms/step - loss: 1.6410e-10\n",
            "Epoch 395/500\n",
            "1/1 [==============================] - 0s 5ms/step - loss: 1.5679e-10\n",
            "Epoch 396/500\n",
            "1/1 [==============================] - 0s 4ms/step - loss: 1.4610e-10\n",
            "Epoch 397/500\n",
            "1/1 [==============================] - 0s 3ms/step - loss: 1.3774e-10\n",
            "Epoch 398/500\n",
            "1/1 [==============================] - 0s 3ms/step - loss: 1.2966e-10\n",
            "Epoch 399/500\n",
            "1/1 [==============================] - 0s 2ms/step - loss: 1.2155e-10\n",
            "Epoch 400/500\n",
            "1/1 [==============================] - 0s 2ms/step - loss: 1.1375e-10\n",
            "Epoch 401/500\n",
            "1/1 [==============================] - 0s 3ms/step - loss: 1.0674e-10\n",
            "Epoch 402/500\n",
            "1/1 [==============================] - 0s 2ms/step - loss: 1.0130e-10\n",
            "Epoch 403/500\n",
            "1/1 [==============================] - 0s 2ms/step - loss: 9.6525e-11\n",
            "Epoch 404/500\n",
            "1/1 [==============================] - 0s 5ms/step - loss: 9.1508e-11\n",
            "Epoch 405/500\n",
            "1/1 [==============================] - 0s 7ms/step - loss: 8.4491e-11\n",
            "Epoch 406/500\n",
            "1/1 [==============================] - 0s 3ms/step - loss: 8.0879e-11\n",
            "Epoch 407/500\n",
            "1/1 [==============================] - 0s 8ms/step - loss: 7.6618e-11\n",
            "Epoch 408/500\n",
            "1/1 [==============================] - 0s 6ms/step - loss: 7.0990e-11\n",
            "Epoch 409/500\n",
            "1/1 [==============================] - 0s 5ms/step - loss: 6.8773e-11\n",
            "Epoch 410/500\n",
            "1/1 [==============================] - 0s 5ms/step - loss: 6.2959e-11\n",
            "Epoch 411/500\n",
            "1/1 [==============================] - 0s 3ms/step - loss: 6.1457e-11\n",
            "Epoch 412/500\n",
            "1/1 [==============================] - 0s 3ms/step - loss: 5.5602e-11\n",
            "Epoch 413/500\n",
            "1/1 [==============================] - 0s 3ms/step - loss: 5.3871e-11\n",
            "Epoch 414/500\n",
            "1/1 [==============================] - 0s 4ms/step - loss: 4.8954e-11\n",
            "Epoch 415/500\n",
            "1/1 [==============================] - 0s 2ms/step - loss: 4.7753e-11\n",
            "Epoch 416/500\n",
            "1/1 [==============================] - 0s 3ms/step - loss: 4.3102e-11\n",
            "Epoch 417/500\n",
            "1/1 [==============================] - 0s 3ms/step - loss: 4.2524e-11\n",
            "Epoch 418/500\n",
            "1/1 [==============================] - 0s 3ms/step - loss: 4.0044e-11\n",
            "Epoch 419/500\n",
            "1/1 [==============================] - 0s 4ms/step - loss: 3.8052e-11\n",
            "Epoch 420/500\n",
            "1/1 [==============================] - 0s 3ms/step - loss: 3.5892e-11\n",
            "Epoch 421/500\n",
            "1/1 [==============================] - 0s 3ms/step - loss: 3.3088e-11\n",
            "Epoch 422/500\n",
            "1/1 [==============================] - 0s 4ms/step - loss: 3.2005e-11\n",
            "Epoch 423/500\n",
            "1/1 [==============================] - 0s 2ms/step - loss: 3.1010e-11\n",
            "Epoch 424/500\n",
            "1/1 [==============================] - 0s 4ms/step - loss: 2.8223e-11\n",
            "Epoch 425/500\n",
            "1/1 [==============================] - 0s 3ms/step - loss: 2.8261e-11\n",
            "Epoch 426/500\n",
            "1/1 [==============================] - 0s 3ms/step - loss: 2.4833e-11\n",
            "Epoch 427/500\n",
            "1/1 [==============================] - 0s 3ms/step - loss: 2.3258e-11\n",
            "Epoch 428/500\n",
            "1/1 [==============================] - 0s 3ms/step - loss: 2.2827e-11\n",
            "Epoch 429/500\n",
            "1/1 [==============================] - 0s 4ms/step - loss: 2.2406e-11\n",
            "Epoch 430/500\n",
            "1/1 [==============================] - 0s 3ms/step - loss: 2.1290e-11\n",
            "Epoch 431/500\n",
            "1/1 [==============================] - 0s 4ms/step - loss: 2.0153e-11\n",
            "Epoch 432/500\n",
            "1/1 [==============================] - 0s 4ms/step - loss: 1.9149e-11\n",
            "Epoch 433/500\n",
            "1/1 [==============================] - 0s 2ms/step - loss: 1.7974e-11\n",
            "Epoch 434/500\n",
            "1/1 [==============================] - 0s 2ms/step - loss: 1.6745e-11\n",
            "Epoch 435/500\n",
            "1/1 [==============================] - 0s 3ms/step - loss: 1.5814e-11\n",
            "Epoch 436/500\n",
            "1/1 [==============================] - 0s 4ms/step - loss: 1.5464e-11\n",
            "Epoch 437/500\n",
            "1/1 [==============================] - 0s 4ms/step - loss: 1.5123e-11\n",
            "Epoch 438/500\n",
            "1/1 [==============================] - 0s 5ms/step - loss: 1.3458e-11\n",
            "Epoch 439/500\n",
            "1/1 [==============================] - 0s 3ms/step - loss: 1.2453e-11\n",
            "Epoch 440/500\n",
            "1/1 [==============================] - 0s 2ms/step - loss: 1.2108e-11\n",
            "Epoch 441/500\n",
            "1/1 [==============================] - 0s 4ms/step - loss: 1.1525e-11\n",
            "Epoch 442/500\n",
            "1/1 [==============================] - 0s 9ms/step - loss: 1.0620e-11\n",
            "Epoch 443/500\n",
            "1/1 [==============================] - 0s 4ms/step - loss: 1.0215e-11\n",
            "Epoch 444/500\n",
            "1/1 [==============================] - 0s 2ms/step - loss: 9.6444e-12\n",
            "Epoch 445/500\n",
            "1/1 [==============================] - 0s 2ms/step - loss: 9.3466e-12\n",
            "Epoch 446/500\n",
            "1/1 [==============================] - 0s 6ms/step - loss: 8.3299e-12\n",
            "Epoch 447/500\n",
            "1/1 [==============================] - 0s 3ms/step - loss: 8.0741e-12\n",
            "Epoch 448/500\n",
            "1/1 [==============================] - 0s 5ms/step - loss: 7.5365e-12\n",
            "Epoch 449/500\n",
            "1/1 [==============================] - 0s 2ms/step - loss: 7.5910e-12\n",
            "Epoch 450/500\n",
            "1/1 [==============================] - 0s 4ms/step - loss: 7.4465e-12\n",
            "Epoch 451/500\n",
            "1/1 [==============================] - 0s 2ms/step - loss: 7.2908e-12\n",
            "Epoch 452/500\n",
            "1/1 [==============================] - 0s 5ms/step - loss: 6.7596e-12\n",
            "Epoch 453/500\n",
            "1/1 [==============================] - 0s 2ms/step - loss: 5.9307e-12\n",
            "Epoch 454/500\n",
            "1/1 [==============================] - 0s 3ms/step - loss: 5.9307e-12\n",
            "Epoch 455/500\n",
            "1/1 [==============================] - 0s 2ms/step - loss: 5.7175e-12\n",
            "Epoch 456/500\n",
            "1/1 [==============================] - 0s 2ms/step - loss: 5.4878e-12\n",
            "Epoch 457/500\n",
            "1/1 [==============================] - 0s 2ms/step - loss: 5.4096e-12\n",
            "Epoch 458/500\n",
            "1/1 [==============================] - 0s 4ms/step - loss: 5.2888e-12\n",
            "Epoch 459/500\n",
            "1/1 [==============================] - 0s 4ms/step - loss: 4.8702e-12\n",
            "Epoch 460/500\n",
            "1/1 [==============================] - 0s 4ms/step - loss: 4.7867e-12\n",
            "Epoch 461/500\n",
            "1/1 [==============================] - 0s 4ms/step - loss: 4.6239e-12\n",
            "Epoch 462/500\n",
            "1/1 [==============================] - 0s 2ms/step - loss: 4.0383e-12\n",
            "Epoch 463/500\n",
            "1/1 [==============================] - 0s 2ms/step - loss: 3.9980e-12\n",
            "Epoch 464/500\n",
            "1/1 [==============================] - 0s 2ms/step - loss: 3.7067e-12\n",
            "Epoch 465/500\n",
            "1/1 [==============================] - 0s 3ms/step - loss: 3.7067e-12\n",
            "Epoch 466/500\n",
            "1/1 [==============================] - 0s 2ms/step - loss: 4.0477e-12\n",
            "Epoch 467/500\n",
            "1/1 [==============================] - 0s 4ms/step - loss: 3.4153e-12\n",
            "Epoch 468/500\n",
            "1/1 [==============================] - 0s 5ms/step - loss: 3.0340e-12\n",
            "Epoch 469/500\n",
            "1/1 [==============================] - 0s 4ms/step - loss: 2.4158e-12\n",
            "Epoch 470/500\n",
            "1/1 [==============================] - 0s 4ms/step - loss: 2.2785e-12\n",
            "Epoch 471/500\n",
            "1/1 [==============================] - 0s 5ms/step - loss: 2.1837e-12\n",
            "Epoch 472/500\n",
            "1/1 [==============================] - 0s 5ms/step - loss: 2.3329e-12\n",
            "Epoch 473/500\n",
            "1/1 [==============================] - 0s 3ms/step - loss: 2.3329e-12\n",
            "Epoch 474/500\n",
            "1/1 [==============================] - 0s 3ms/step - loss: 2.3329e-12\n",
            "Epoch 475/500\n",
            "1/1 [==============================] - 0s 2ms/step - loss: 2.3329e-12\n",
            "Epoch 476/500\n",
            "1/1 [==============================] - 0s 8ms/step - loss: 2.3779e-12\n",
            "Epoch 477/500\n",
            "1/1 [==============================] - 0s 5ms/step - loss: 2.1885e-12\n",
            "Epoch 478/500\n",
            "1/1 [==============================] - 0s 10ms/step - loss: 2.1796e-12\n",
            "Epoch 479/500\n",
            "1/1 [==============================] - 0s 4ms/step - loss: 2.0985e-12\n",
            "Epoch 480/500\n",
            "1/1 [==============================] - 0s 7ms/step - loss: 1.8267e-12\n",
            "Epoch 481/500\n",
            "1/1 [==============================] - 0s 5ms/step - loss: 1.7243e-12\n",
            "Epoch 482/500\n",
            "1/1 [==============================] - 0s 4ms/step - loss: 1.7243e-12\n",
            "Epoch 483/500\n",
            "1/1 [==============================] - 0s 3ms/step - loss: 1.5348e-12\n",
            "Epoch 484/500\n",
            "1/1 [==============================] - 0s 3ms/step - loss: 1.5348e-12\n",
            "Epoch 485/500\n",
            "1/1 [==============================] - 0s 6ms/step - loss: 1.5348e-12\n",
            "Epoch 486/500\n",
            "1/1 [==============================] - 0s 5ms/step - loss: 1.5348e-12\n",
            "Epoch 487/500\n",
            "1/1 [==============================] - 0s 8ms/step - loss: 1.5348e-12\n",
            "Epoch 488/500\n",
            "1/1 [==============================] - 0s 4ms/step - loss: 1.5348e-12\n",
            "Epoch 489/500\n",
            "1/1 [==============================] - 0s 5ms/step - loss: 1.5348e-12\n",
            "Epoch 490/500\n",
            "1/1 [==============================] - 0s 3ms/step - loss: 1.5348e-12\n",
            "Epoch 491/500\n",
            "1/1 [==============================] - 0s 5ms/step - loss: 1.5348e-12\n",
            "Epoch 492/500\n",
            "1/1 [==============================] - 0s 4ms/step - loss: 1.5348e-12\n",
            "Epoch 493/500\n",
            "1/1 [==============================] - 0s 4ms/step - loss: 1.5348e-12\n",
            "Epoch 494/500\n",
            "1/1 [==============================] - 0s 4ms/step - loss: 1.5348e-12\n",
            "Epoch 495/500\n",
            "1/1 [==============================] - 0s 2ms/step - loss: 1.5348e-12\n",
            "Epoch 496/500\n",
            "1/1 [==============================] - 0s 4ms/step - loss: 1.5348e-12\n",
            "Epoch 497/500\n",
            "1/1 [==============================] - 0s 2ms/step - loss: 1.5348e-12\n",
            "Epoch 498/500\n",
            "1/1 [==============================] - 0s 2ms/step - loss: 1.5348e-12\n",
            "Epoch 499/500\n",
            "1/1 [==============================] - 0s 2ms/step - loss: 1.5348e-12\n",
            "Epoch 500/500\n",
            "1/1 [==============================] - 0s 3ms/step - loss: 1.5348e-12\n"
          ]
        }
      ],
      "source": [
        "history = model.fit(xs, ys, epochs=500)"
      ]
    },
    {
      "source": [
        "- ### Test Model"
      ],
      "cell_type": "markdown",
      "metadata": {}
    },
    {
      "cell_type": "code",
      "execution_count": 152,
      "metadata": {},
      "outputs": [
        {
          "output_type": "stream",
          "name": "stdout",
          "text": [
            "[array([[-1.6109905 , -0.61705154]], dtype=float32), array([0.46232  , 0.1920152], dtype=float32)]\n[array([[-1.0697552],\n       [-0.4483156]], dtype=float32), array([-0.41934577], dtype=float32)]\n"
          ]
        }
      ],
      "source": [
        "print(my_layer_1.get_weights())\n",
        "print(my_layer_2.get_weights())"
      ]
    },
    {
      "cell_type": "code",
      "execution_count": 153,
      "metadata": {},
      "outputs": [
        {
          "output_type": "stream",
          "name": "stdout",
          "text": [
            "wi =  [[-1.6109905  -0.61705154]]\nb  =  [0.46232   0.1920152]\n"
          ]
        }
      ],
      "source": [
        "print(\"wi = \", model.get_weights()[0])\n",
        "print(\"b  = \", model.get_weights()[1])"
      ]
    },
    {
      "source": [
        "- ### Inspect Model"
      ],
      "cell_type": "markdown",
      "metadata": {}
    },
    {
      "cell_type": "code",
      "execution_count": 154,
      "metadata": {},
      "outputs": [
        {
          "output_type": "display_data",
          "data": {
            "text/plain": "<Figure size 432x288 with 1 Axes>",
            "image/svg+xml": "<?xml version=\"1.0\" encoding=\"utf-8\" standalone=\"no\"?>\r\n<!DOCTYPE svg PUBLIC \"-//W3C//DTD SVG 1.1//EN\"\r\n  \"http://www.w3.org/Graphics/SVG/1.1/DTD/svg11.dtd\">\r\n<svg height=\"277.314375pt\" version=\"1.1\" viewBox=\"0 0 382.603125 277.314375\" width=\"382.603125pt\" xmlns=\"http://www.w3.org/2000/svg\" xmlns:xlink=\"http://www.w3.org/1999/xlink\">\r\n <metadata>\r\n  <rdf:RDF xmlns:cc=\"http://creativecommons.org/ns#\" xmlns:dc=\"http://purl.org/dc/elements/1.1/\" xmlns:rdf=\"http://www.w3.org/1999/02/22-rdf-syntax-ns#\">\r\n   <cc:Work>\r\n    <dc:type rdf:resource=\"http://purl.org/dc/dcmitype/StillImage\"/>\r\n    <dc:date>2021-05-26T08:59:03.436324</dc:date>\r\n    <dc:format>image/svg+xml</dc:format>\r\n    <dc:creator>\r\n     <cc:Agent>\r\n      <dc:title>Matplotlib v3.4.2, https://matplotlib.org/</dc:title>\r\n     </cc:Agent>\r\n    </dc:creator>\r\n   </cc:Work>\r\n  </rdf:RDF>\r\n </metadata>\r\n <defs>\r\n  <style type=\"text/css\">*{stroke-linecap:butt;stroke-linejoin:round;}</style>\r\n </defs>\r\n <g id=\"figure_1\">\r\n  <g id=\"patch_1\">\r\n   <path d=\"M 0 277.314375 \r\nL 382.603125 277.314375 \r\nL 382.603125 0 \r\nL 0 0 \r\nz\r\n\" style=\"fill:none;\"/>\r\n  </g>\r\n  <g id=\"axes_1\">\r\n   <g id=\"patch_2\">\r\n    <path d=\"M 40.603125 239.758125 \r\nL 375.403125 239.758125 \r\nL 375.403125 22.318125 \r\nL 40.603125 22.318125 \r\nz\r\n\" style=\"fill:#ffffff;\"/>\r\n   </g>\r\n   <g id=\"matplotlib.axis_1\">\r\n    <g id=\"xtick_1\">\r\n     <g id=\"line2d_1\">\r\n      <defs>\r\n       <path d=\"M 0 0 \r\nL 0 3.5 \r\n\" id=\"m2ffe07e99b\" style=\"stroke:#000000;stroke-width:0.8;\"/>\r\n      </defs>\r\n      <g>\r\n       <use style=\"stroke:#000000;stroke-width:0.8;\" x=\"55.821307\" xlink:href=\"#m2ffe07e99b\" y=\"239.758125\"/>\r\n      </g>\r\n     </g>\r\n     <g id=\"text_1\">\r\n      <!-- 0 -->\r\n      <g transform=\"translate(52.640057 254.356562)scale(0.1 -0.1)\">\r\n       <defs>\r\n        <path d=\"M 2034 4250 \r\nQ 1547 4250 1301 3770 \r\nQ 1056 3291 1056 2328 \r\nQ 1056 1369 1301 889 \r\nQ 1547 409 2034 409 \r\nQ 2525 409 2770 889 \r\nQ 3016 1369 3016 2328 \r\nQ 3016 3291 2770 3770 \r\nQ 2525 4250 2034 4250 \r\nz\r\nM 2034 4750 \r\nQ 2819 4750 3233 4129 \r\nQ 3647 3509 3647 2328 \r\nQ 3647 1150 3233 529 \r\nQ 2819 -91 2034 -91 \r\nQ 1250 -91 836 529 \r\nQ 422 1150 422 2328 \r\nQ 422 3509 836 4129 \r\nQ 1250 4750 2034 4750 \r\nz\r\n\" id=\"DejaVuSans-30\" transform=\"scale(0.015625)\"/>\r\n       </defs>\r\n       <use xlink:href=\"#DejaVuSans-30\"/>\r\n      </g>\r\n     </g>\r\n    </g>\r\n    <g id=\"xtick_2\">\r\n     <g id=\"line2d_2\">\r\n      <g>\r\n       <use style=\"stroke:#000000;stroke-width:0.8;\" x=\"116.816024\" xlink:href=\"#m2ffe07e99b\" y=\"239.758125\"/>\r\n      </g>\r\n     </g>\r\n     <g id=\"text_2\">\r\n      <!-- 100 -->\r\n      <g transform=\"translate(107.272274 254.356562)scale(0.1 -0.1)\">\r\n       <defs>\r\n        <path d=\"M 794 531 \r\nL 1825 531 \r\nL 1825 4091 \r\nL 703 3866 \r\nL 703 4441 \r\nL 1819 4666 \r\nL 2450 4666 \r\nL 2450 531 \r\nL 3481 531 \r\nL 3481 0 \r\nL 794 0 \r\nL 794 531 \r\nz\r\n\" id=\"DejaVuSans-31\" transform=\"scale(0.015625)\"/>\r\n       </defs>\r\n       <use xlink:href=\"#DejaVuSans-31\"/>\r\n       <use x=\"63.623047\" xlink:href=\"#DejaVuSans-30\"/>\r\n       <use x=\"127.246094\" xlink:href=\"#DejaVuSans-30\"/>\r\n      </g>\r\n     </g>\r\n    </g>\r\n    <g id=\"xtick_3\">\r\n     <g id=\"line2d_3\">\r\n      <g>\r\n       <use style=\"stroke:#000000;stroke-width:0.8;\" x=\"177.81074\" xlink:href=\"#m2ffe07e99b\" y=\"239.758125\"/>\r\n      </g>\r\n     </g>\r\n     <g id=\"text_3\">\r\n      <!-- 200 -->\r\n      <g transform=\"translate(168.26699 254.356562)scale(0.1 -0.1)\">\r\n       <defs>\r\n        <path d=\"M 1228 531 \r\nL 3431 531 \r\nL 3431 0 \r\nL 469 0 \r\nL 469 531 \r\nQ 828 903 1448 1529 \r\nQ 2069 2156 2228 2338 \r\nQ 2531 2678 2651 2914 \r\nQ 2772 3150 2772 3378 \r\nQ 2772 3750 2511 3984 \r\nQ 2250 4219 1831 4219 \r\nQ 1534 4219 1204 4116 \r\nQ 875 4013 500 3803 \r\nL 500 4441 \r\nQ 881 4594 1212 4672 \r\nQ 1544 4750 1819 4750 \r\nQ 2544 4750 2975 4387 \r\nQ 3406 4025 3406 3419 \r\nQ 3406 3131 3298 2873 \r\nQ 3191 2616 2906 2266 \r\nQ 2828 2175 2409 1742 \r\nQ 1991 1309 1228 531 \r\nz\r\n\" id=\"DejaVuSans-32\" transform=\"scale(0.015625)\"/>\r\n       </defs>\r\n       <use xlink:href=\"#DejaVuSans-32\"/>\r\n       <use x=\"63.623047\" xlink:href=\"#DejaVuSans-30\"/>\r\n       <use x=\"127.246094\" xlink:href=\"#DejaVuSans-30\"/>\r\n      </g>\r\n     </g>\r\n    </g>\r\n    <g id=\"xtick_4\">\r\n     <g id=\"line2d_4\">\r\n      <g>\r\n       <use style=\"stroke:#000000;stroke-width:0.8;\" x=\"238.805457\" xlink:href=\"#m2ffe07e99b\" y=\"239.758125\"/>\r\n      </g>\r\n     </g>\r\n     <g id=\"text_4\">\r\n      <!-- 300 -->\r\n      <g transform=\"translate(229.261707 254.356562)scale(0.1 -0.1)\">\r\n       <defs>\r\n        <path d=\"M 2597 2516 \r\nQ 3050 2419 3304 2112 \r\nQ 3559 1806 3559 1356 \r\nQ 3559 666 3084 287 \r\nQ 2609 -91 1734 -91 \r\nQ 1441 -91 1130 -33 \r\nQ 819 25 488 141 \r\nL 488 750 \r\nQ 750 597 1062 519 \r\nQ 1375 441 1716 441 \r\nQ 2309 441 2620 675 \r\nQ 2931 909 2931 1356 \r\nQ 2931 1769 2642 2001 \r\nQ 2353 2234 1838 2234 \r\nL 1294 2234 \r\nL 1294 2753 \r\nL 1863 2753 \r\nQ 2328 2753 2575 2939 \r\nQ 2822 3125 2822 3475 \r\nQ 2822 3834 2567 4026 \r\nQ 2313 4219 1838 4219 \r\nQ 1578 4219 1281 4162 \r\nQ 984 4106 628 3988 \r\nL 628 4550 \r\nQ 988 4650 1302 4700 \r\nQ 1616 4750 1894 4750 \r\nQ 2613 4750 3031 4423 \r\nQ 3450 4097 3450 3541 \r\nQ 3450 3153 3228 2886 \r\nQ 3006 2619 2597 2516 \r\nz\r\n\" id=\"DejaVuSans-33\" transform=\"scale(0.015625)\"/>\r\n       </defs>\r\n       <use xlink:href=\"#DejaVuSans-33\"/>\r\n       <use x=\"63.623047\" xlink:href=\"#DejaVuSans-30\"/>\r\n       <use x=\"127.246094\" xlink:href=\"#DejaVuSans-30\"/>\r\n      </g>\r\n     </g>\r\n    </g>\r\n    <g id=\"xtick_5\">\r\n     <g id=\"line2d_5\">\r\n      <g>\r\n       <use style=\"stroke:#000000;stroke-width:0.8;\" x=\"299.800174\" xlink:href=\"#m2ffe07e99b\" y=\"239.758125\"/>\r\n      </g>\r\n     </g>\r\n     <g id=\"text_5\">\r\n      <!-- 400 -->\r\n      <g transform=\"translate(290.256424 254.356562)scale(0.1 -0.1)\">\r\n       <defs>\r\n        <path d=\"M 2419 4116 \r\nL 825 1625 \r\nL 2419 1625 \r\nL 2419 4116 \r\nz\r\nM 2253 4666 \r\nL 3047 4666 \r\nL 3047 1625 \r\nL 3713 1625 \r\nL 3713 1100 \r\nL 3047 1100 \r\nL 3047 0 \r\nL 2419 0 \r\nL 2419 1100 \r\nL 313 1100 \r\nL 313 1709 \r\nL 2253 4666 \r\nz\r\n\" id=\"DejaVuSans-34\" transform=\"scale(0.015625)\"/>\r\n       </defs>\r\n       <use xlink:href=\"#DejaVuSans-34\"/>\r\n       <use x=\"63.623047\" xlink:href=\"#DejaVuSans-30\"/>\r\n       <use x=\"127.246094\" xlink:href=\"#DejaVuSans-30\"/>\r\n      </g>\r\n     </g>\r\n    </g>\r\n    <g id=\"xtick_6\">\r\n     <g id=\"line2d_6\">\r\n      <g>\r\n       <use style=\"stroke:#000000;stroke-width:0.8;\" x=\"360.79489\" xlink:href=\"#m2ffe07e99b\" y=\"239.758125\"/>\r\n      </g>\r\n     </g>\r\n     <g id=\"text_6\">\r\n      <!-- 500 -->\r\n      <g transform=\"translate(351.25114 254.356562)scale(0.1 -0.1)\">\r\n       <defs>\r\n        <path d=\"M 691 4666 \r\nL 3169 4666 \r\nL 3169 4134 \r\nL 1269 4134 \r\nL 1269 2991 \r\nQ 1406 3038 1543 3061 \r\nQ 1681 3084 1819 3084 \r\nQ 2600 3084 3056 2656 \r\nQ 3513 2228 3513 1497 \r\nQ 3513 744 3044 326 \r\nQ 2575 -91 1722 -91 \r\nQ 1428 -91 1123 -41 \r\nQ 819 9 494 109 \r\nL 494 744 \r\nQ 775 591 1075 516 \r\nQ 1375 441 1709 441 \r\nQ 2250 441 2565 725 \r\nQ 2881 1009 2881 1497 \r\nQ 2881 1984 2565 2268 \r\nQ 2250 2553 1709 2553 \r\nQ 1456 2553 1204 2497 \r\nQ 953 2441 691 2322 \r\nL 691 4666 \r\nz\r\n\" id=\"DejaVuSans-35\" transform=\"scale(0.015625)\"/>\r\n       </defs>\r\n       <use xlink:href=\"#DejaVuSans-35\"/>\r\n       <use x=\"63.623047\" xlink:href=\"#DejaVuSans-30\"/>\r\n       <use x=\"127.246094\" xlink:href=\"#DejaVuSans-30\"/>\r\n      </g>\r\n     </g>\r\n    </g>\r\n    <g id=\"text_7\">\r\n     <!-- epoch -->\r\n     <g transform=\"translate(192.775 268.034687)scale(0.1 -0.1)\">\r\n      <defs>\r\n       <path d=\"M 3597 1894 \r\nL 3597 1613 \r\nL 953 1613 \r\nQ 991 1019 1311 708 \r\nQ 1631 397 2203 397 \r\nQ 2534 397 2845 478 \r\nQ 3156 559 3463 722 \r\nL 3463 178 \r\nQ 3153 47 2828 -22 \r\nQ 2503 -91 2169 -91 \r\nQ 1331 -91 842 396 \r\nQ 353 884 353 1716 \r\nQ 353 2575 817 3079 \r\nQ 1281 3584 2069 3584 \r\nQ 2775 3584 3186 3129 \r\nQ 3597 2675 3597 1894 \r\nz\r\nM 3022 2063 \r\nQ 3016 2534 2758 2815 \r\nQ 2500 3097 2075 3097 \r\nQ 1594 3097 1305 2825 \r\nQ 1016 2553 972 2059 \r\nL 3022 2063 \r\nz\r\n\" id=\"DejaVuSans-65\" transform=\"scale(0.015625)\"/>\r\n       <path d=\"M 1159 525 \r\nL 1159 -1331 \r\nL 581 -1331 \r\nL 581 3500 \r\nL 1159 3500 \r\nL 1159 2969 \r\nQ 1341 3281 1617 3432 \r\nQ 1894 3584 2278 3584 \r\nQ 2916 3584 3314 3078 \r\nQ 3713 2572 3713 1747 \r\nQ 3713 922 3314 415 \r\nQ 2916 -91 2278 -91 \r\nQ 1894 -91 1617 61 \r\nQ 1341 213 1159 525 \r\nz\r\nM 3116 1747 \r\nQ 3116 2381 2855 2742 \r\nQ 2594 3103 2138 3103 \r\nQ 1681 3103 1420 2742 \r\nQ 1159 2381 1159 1747 \r\nQ 1159 1113 1420 752 \r\nQ 1681 391 2138 391 \r\nQ 2594 391 2855 752 \r\nQ 3116 1113 3116 1747 \r\nz\r\n\" id=\"DejaVuSans-70\" transform=\"scale(0.015625)\"/>\r\n       <path d=\"M 1959 3097 \r\nQ 1497 3097 1228 2736 \r\nQ 959 2375 959 1747 \r\nQ 959 1119 1226 758 \r\nQ 1494 397 1959 397 \r\nQ 2419 397 2687 759 \r\nQ 2956 1122 2956 1747 \r\nQ 2956 2369 2687 2733 \r\nQ 2419 3097 1959 3097 \r\nz\r\nM 1959 3584 \r\nQ 2709 3584 3137 3096 \r\nQ 3566 2609 3566 1747 \r\nQ 3566 888 3137 398 \r\nQ 2709 -91 1959 -91 \r\nQ 1206 -91 779 398 \r\nQ 353 888 353 1747 \r\nQ 353 2609 779 3096 \r\nQ 1206 3584 1959 3584 \r\nz\r\n\" id=\"DejaVuSans-6f\" transform=\"scale(0.015625)\"/>\r\n       <path d=\"M 3122 3366 \r\nL 3122 2828 \r\nQ 2878 2963 2633 3030 \r\nQ 2388 3097 2138 3097 \r\nQ 1578 3097 1268 2742 \r\nQ 959 2388 959 1747 \r\nQ 959 1106 1268 751 \r\nQ 1578 397 2138 397 \r\nQ 2388 397 2633 464 \r\nQ 2878 531 3122 666 \r\nL 3122 134 \r\nQ 2881 22 2623 -34 \r\nQ 2366 -91 2075 -91 \r\nQ 1284 -91 818 406 \r\nQ 353 903 353 1747 \r\nQ 353 2603 823 3093 \r\nQ 1294 3584 2113 3584 \r\nQ 2378 3584 2631 3529 \r\nQ 2884 3475 3122 3366 \r\nz\r\n\" id=\"DejaVuSans-63\" transform=\"scale(0.015625)\"/>\r\n       <path d=\"M 3513 2113 \r\nL 3513 0 \r\nL 2938 0 \r\nL 2938 2094 \r\nQ 2938 2591 2744 2837 \r\nQ 2550 3084 2163 3084 \r\nQ 1697 3084 1428 2787 \r\nQ 1159 2491 1159 1978 \r\nL 1159 0 \r\nL 581 0 \r\nL 581 4863 \r\nL 1159 4863 \r\nL 1159 2956 \r\nQ 1366 3272 1645 3428 \r\nQ 1925 3584 2291 3584 \r\nQ 2894 3584 3203 3211 \r\nQ 3513 2838 3513 2113 \r\nz\r\n\" id=\"DejaVuSans-68\" transform=\"scale(0.015625)\"/>\r\n      </defs>\r\n      <use xlink:href=\"#DejaVuSans-65\"/>\r\n      <use x=\"61.523438\" xlink:href=\"#DejaVuSans-70\"/>\r\n      <use x=\"125\" xlink:href=\"#DejaVuSans-6f\"/>\r\n      <use x=\"186.181641\" xlink:href=\"#DejaVuSans-63\"/>\r\n      <use x=\"241.162109\" xlink:href=\"#DejaVuSans-68\"/>\r\n     </g>\r\n    </g>\r\n   </g>\r\n   <g id=\"matplotlib.axis_2\">\r\n    <g id=\"ytick_1\">\r\n     <g id=\"line2d_7\">\r\n      <defs>\r\n       <path d=\"M 0 0 \r\nL -3.5 0 \r\n\" id=\"m38d2bc7a6a\" style=\"stroke:#000000;stroke-width:0.8;\"/>\r\n      </defs>\r\n      <g>\r\n       <use style=\"stroke:#000000;stroke-width:0.8;\" x=\"40.603125\" xlink:href=\"#m38d2bc7a6a\" y=\"229.874489\"/>\r\n      </g>\r\n     </g>\r\n     <g id=\"text_8\">\r\n      <!-- 0 -->\r\n      <g transform=\"translate(27.240625 233.673707)scale(0.1 -0.1)\">\r\n       <use xlink:href=\"#DejaVuSans-30\"/>\r\n      </g>\r\n     </g>\r\n    </g>\r\n    <g id=\"ytick_2\">\r\n     <g id=\"line2d_8\">\r\n      <g>\r\n       <use style=\"stroke:#000000;stroke-width:0.8;\" x=\"40.603125\" xlink:href=\"#m38d2bc7a6a\" y=\"197.07072\"/>\r\n      </g>\r\n     </g>\r\n     <g id=\"text_9\">\r\n      <!-- 2 -->\r\n      <g transform=\"translate(27.240625 200.869939)scale(0.1 -0.1)\">\r\n       <use xlink:href=\"#DejaVuSans-32\"/>\r\n      </g>\r\n     </g>\r\n    </g>\r\n    <g id=\"ytick_3\">\r\n     <g id=\"line2d_9\">\r\n      <g>\r\n       <use style=\"stroke:#000000;stroke-width:0.8;\" x=\"40.603125\" xlink:href=\"#m38d2bc7a6a\" y=\"164.266951\"/>\r\n      </g>\r\n     </g>\r\n     <g id=\"text_10\">\r\n      <!-- 4 -->\r\n      <g transform=\"translate(27.240625 168.06617)scale(0.1 -0.1)\">\r\n       <use xlink:href=\"#DejaVuSans-34\"/>\r\n      </g>\r\n     </g>\r\n    </g>\r\n    <g id=\"ytick_4\">\r\n     <g id=\"line2d_10\">\r\n      <g>\r\n       <use style=\"stroke:#000000;stroke-width:0.8;\" x=\"40.603125\" xlink:href=\"#m38d2bc7a6a\" y=\"131.463182\"/>\r\n      </g>\r\n     </g>\r\n     <g id=\"text_11\">\r\n      <!-- 6 -->\r\n      <g transform=\"translate(27.240625 135.262401)scale(0.1 -0.1)\">\r\n       <defs>\r\n        <path d=\"M 2113 2584 \r\nQ 1688 2584 1439 2293 \r\nQ 1191 2003 1191 1497 \r\nQ 1191 994 1439 701 \r\nQ 1688 409 2113 409 \r\nQ 2538 409 2786 701 \r\nQ 3034 994 3034 1497 \r\nQ 3034 2003 2786 2293 \r\nQ 2538 2584 2113 2584 \r\nz\r\nM 3366 4563 \r\nL 3366 3988 \r\nQ 3128 4100 2886 4159 \r\nQ 2644 4219 2406 4219 \r\nQ 1781 4219 1451 3797 \r\nQ 1122 3375 1075 2522 \r\nQ 1259 2794 1537 2939 \r\nQ 1816 3084 2150 3084 \r\nQ 2853 3084 3261 2657 \r\nQ 3669 2231 3669 1497 \r\nQ 3669 778 3244 343 \r\nQ 2819 -91 2113 -91 \r\nQ 1303 -91 875 529 \r\nQ 447 1150 447 2328 \r\nQ 447 3434 972 4092 \r\nQ 1497 4750 2381 4750 \r\nQ 2619 4750 2861 4703 \r\nQ 3103 4656 3366 4563 \r\nz\r\n\" id=\"DejaVuSans-36\" transform=\"scale(0.015625)\"/>\r\n       </defs>\r\n       <use xlink:href=\"#DejaVuSans-36\"/>\r\n      </g>\r\n     </g>\r\n    </g>\r\n    <g id=\"ytick_5\">\r\n     <g id=\"line2d_11\">\r\n      <g>\r\n       <use style=\"stroke:#000000;stroke-width:0.8;\" x=\"40.603125\" xlink:href=\"#m38d2bc7a6a\" y=\"98.659413\"/>\r\n      </g>\r\n     </g>\r\n     <g id=\"text_12\">\r\n      <!-- 8 -->\r\n      <g transform=\"translate(27.240625 102.458632)scale(0.1 -0.1)\">\r\n       <defs>\r\n        <path d=\"M 2034 2216 \r\nQ 1584 2216 1326 1975 \r\nQ 1069 1734 1069 1313 \r\nQ 1069 891 1326 650 \r\nQ 1584 409 2034 409 \r\nQ 2484 409 2743 651 \r\nQ 3003 894 3003 1313 \r\nQ 3003 1734 2745 1975 \r\nQ 2488 2216 2034 2216 \r\nz\r\nM 1403 2484 \r\nQ 997 2584 770 2862 \r\nQ 544 3141 544 3541 \r\nQ 544 4100 942 4425 \r\nQ 1341 4750 2034 4750 \r\nQ 2731 4750 3128 4425 \r\nQ 3525 4100 3525 3541 \r\nQ 3525 3141 3298 2862 \r\nQ 3072 2584 2669 2484 \r\nQ 3125 2378 3379 2068 \r\nQ 3634 1759 3634 1313 \r\nQ 3634 634 3220 271 \r\nQ 2806 -91 2034 -91 \r\nQ 1263 -91 848 271 \r\nQ 434 634 434 1313 \r\nQ 434 1759 690 2068 \r\nQ 947 2378 1403 2484 \r\nz\r\nM 1172 3481 \r\nQ 1172 3119 1398 2916 \r\nQ 1625 2713 2034 2713 \r\nQ 2441 2713 2670 2916 \r\nQ 2900 3119 2900 3481 \r\nQ 2900 3844 2670 4047 \r\nQ 2441 4250 2034 4250 \r\nQ 1625 4250 1398 4047 \r\nQ 1172 3844 1172 3481 \r\nz\r\n\" id=\"DejaVuSans-38\" transform=\"scale(0.015625)\"/>\r\n       </defs>\r\n       <use xlink:href=\"#DejaVuSans-38\"/>\r\n      </g>\r\n     </g>\r\n    </g>\r\n    <g id=\"ytick_6\">\r\n     <g id=\"line2d_12\">\r\n      <g>\r\n       <use style=\"stroke:#000000;stroke-width:0.8;\" x=\"40.603125\" xlink:href=\"#m38d2bc7a6a\" y=\"65.855645\"/>\r\n      </g>\r\n     </g>\r\n     <g id=\"text_13\">\r\n      <!-- 10 -->\r\n      <g transform=\"translate(20.878125 69.654863)scale(0.1 -0.1)\">\r\n       <use xlink:href=\"#DejaVuSans-31\"/>\r\n       <use x=\"63.623047\" xlink:href=\"#DejaVuSans-30\"/>\r\n      </g>\r\n     </g>\r\n    </g>\r\n    <g id=\"ytick_7\">\r\n     <g id=\"line2d_13\">\r\n      <g>\r\n       <use style=\"stroke:#000000;stroke-width:0.8;\" x=\"40.603125\" xlink:href=\"#m38d2bc7a6a\" y=\"33.051876\"/>\r\n      </g>\r\n     </g>\r\n     <g id=\"text_14\">\r\n      <!-- 12 -->\r\n      <g transform=\"translate(20.878125 36.851095)scale(0.1 -0.1)\">\r\n       <use xlink:href=\"#DejaVuSans-31\"/>\r\n       <use x=\"63.623047\" xlink:href=\"#DejaVuSans-32\"/>\r\n      </g>\r\n     </g>\r\n    </g>\r\n    <g id=\"text_15\">\r\n     <!-- loss -->\r\n     <g transform=\"translate(14.798438 140.695937)rotate(-90)scale(0.1 -0.1)\">\r\n      <defs>\r\n       <path d=\"M 603 4863 \r\nL 1178 4863 \r\nL 1178 0 \r\nL 603 0 \r\nL 603 4863 \r\nz\r\n\" id=\"DejaVuSans-6c\" transform=\"scale(0.015625)\"/>\r\n       <path d=\"M 2834 3397 \r\nL 2834 2853 \r\nQ 2591 2978 2328 3040 \r\nQ 2066 3103 1784 3103 \r\nQ 1356 3103 1142 2972 \r\nQ 928 2841 928 2578 \r\nQ 928 2378 1081 2264 \r\nQ 1234 2150 1697 2047 \r\nL 1894 2003 \r\nQ 2506 1872 2764 1633 \r\nQ 3022 1394 3022 966 \r\nQ 3022 478 2636 193 \r\nQ 2250 -91 1575 -91 \r\nQ 1294 -91 989 -36 \r\nQ 684 19 347 128 \r\nL 347 722 \r\nQ 666 556 975 473 \r\nQ 1284 391 1588 391 \r\nQ 1994 391 2212 530 \r\nQ 2431 669 2431 922 \r\nQ 2431 1156 2273 1281 \r\nQ 2116 1406 1581 1522 \r\nL 1381 1569 \r\nQ 847 1681 609 1914 \r\nQ 372 2147 372 2553 \r\nQ 372 3047 722 3315 \r\nQ 1072 3584 1716 3584 \r\nQ 2034 3584 2315 3537 \r\nQ 2597 3491 2834 3397 \r\nz\r\n\" id=\"DejaVuSans-73\" transform=\"scale(0.015625)\"/>\r\n      </defs>\r\n      <use xlink:href=\"#DejaVuSans-6c\"/>\r\n      <use x=\"27.783203\" xlink:href=\"#DejaVuSans-6f\"/>\r\n      <use x=\"88.964844\" xlink:href=\"#DejaVuSans-73\"/>\r\n      <use x=\"141.064453\" xlink:href=\"#DejaVuSans-73\"/>\r\n     </g>\r\n    </g>\r\n   </g>\r\n   <g id=\"line2d_14\">\r\n    <path clip-path=\"url(#p9af52c6294)\" d=\"M 55.821307 32.201761 \r\nL 56.431254 105.526777 \r\nL 57.041201 153.865868 \r\nL 57.651148 184.455015 \r\nL 58.261095 202.043494 \r\nL 58.871043 211.150664 \r\nL 59.48099 215.520208 \r\nL 60.090937 217.59675 \r\nL 60.700884 218.679298 \r\nL 61.920778 219.879087 \r\nL 63.75062 221.145522 \r\nL 66.190409 222.576963 \r\nL 69.240144 224.073175 \r\nL 72.28988 225.291118 \r\nL 75.339616 226.274651 \r\nL 78.999299 227.200078 \r\nL 82.658982 227.90219 \r\nL 86.928612 228.503575 \r\nL 92.418137 229.025661 \r\nL 99.127556 229.409076 \r\nL 107.666816 229.661889 \r\nL 121.085654 229.81421 \r\nL 150.973065 229.871075 \r\nL 360.184943 229.874489 \r\nL 360.184943 229.874489 \r\n\" style=\"fill:none;stroke:#1f77b4;stroke-linecap:square;stroke-width:1.5;\"/>\r\n   </g>\r\n   <g id=\"patch_3\">\r\n    <path d=\"M 40.603125 239.758125 \r\nL 40.603125 22.318125 \r\n\" style=\"fill:none;stroke:#000000;stroke-linecap:square;stroke-linejoin:miter;stroke-width:0.8;\"/>\r\n   </g>\r\n   <g id=\"patch_4\">\r\n    <path d=\"M 375.403125 239.758125 \r\nL 375.403125 22.318125 \r\n\" style=\"fill:none;stroke:#000000;stroke-linecap:square;stroke-linejoin:miter;stroke-width:0.8;\"/>\r\n   </g>\r\n   <g id=\"patch_5\">\r\n    <path d=\"M 40.603125 239.758125 \r\nL 375.403125 239.758125 \r\n\" style=\"fill:none;stroke:#000000;stroke-linecap:square;stroke-linejoin:miter;stroke-width:0.8;\"/>\r\n   </g>\r\n   <g id=\"patch_6\">\r\n    <path d=\"M 40.603125 22.318125 \r\nL 375.403125 22.318125 \r\n\" style=\"fill:none;stroke:#000000;stroke-linecap:square;stroke-linejoin:miter;stroke-width:0.8;\"/>\r\n   </g>\r\n   <g id=\"text_16\">\r\n    <!-- model loss -->\r\n    <g transform=\"translate(175.823437 16.318125)scale(0.12 -0.12)\">\r\n     <defs>\r\n      <path d=\"M 3328 2828 \r\nQ 3544 3216 3844 3400 \r\nQ 4144 3584 4550 3584 \r\nQ 5097 3584 5394 3201 \r\nQ 5691 2819 5691 2113 \r\nL 5691 0 \r\nL 5113 0 \r\nL 5113 2094 \r\nQ 5113 2597 4934 2840 \r\nQ 4756 3084 4391 3084 \r\nQ 3944 3084 3684 2787 \r\nQ 3425 2491 3425 1978 \r\nL 3425 0 \r\nL 2847 0 \r\nL 2847 2094 \r\nQ 2847 2600 2669 2842 \r\nQ 2491 3084 2119 3084 \r\nQ 1678 3084 1418 2786 \r\nQ 1159 2488 1159 1978 \r\nL 1159 0 \r\nL 581 0 \r\nL 581 3500 \r\nL 1159 3500 \r\nL 1159 2956 \r\nQ 1356 3278 1631 3431 \r\nQ 1906 3584 2284 3584 \r\nQ 2666 3584 2933 3390 \r\nQ 3200 3197 3328 2828 \r\nz\r\n\" id=\"DejaVuSans-6d\" transform=\"scale(0.015625)\"/>\r\n      <path d=\"M 2906 2969 \r\nL 2906 4863 \r\nL 3481 4863 \r\nL 3481 0 \r\nL 2906 0 \r\nL 2906 525 \r\nQ 2725 213 2448 61 \r\nQ 2172 -91 1784 -91 \r\nQ 1150 -91 751 415 \r\nQ 353 922 353 1747 \r\nQ 353 2572 751 3078 \r\nQ 1150 3584 1784 3584 \r\nQ 2172 3584 2448 3432 \r\nQ 2725 3281 2906 2969 \r\nz\r\nM 947 1747 \r\nQ 947 1113 1208 752 \r\nQ 1469 391 1925 391 \r\nQ 2381 391 2643 752 \r\nQ 2906 1113 2906 1747 \r\nQ 2906 2381 2643 2742 \r\nQ 2381 3103 1925 3103 \r\nQ 1469 3103 1208 2742 \r\nQ 947 2381 947 1747 \r\nz\r\n\" id=\"DejaVuSans-64\" transform=\"scale(0.015625)\"/>\r\n      <path id=\"DejaVuSans-20\" transform=\"scale(0.015625)\"/>\r\n     </defs>\r\n     <use xlink:href=\"#DejaVuSans-6d\"/>\r\n     <use x=\"97.412109\" xlink:href=\"#DejaVuSans-6f\"/>\r\n     <use x=\"158.59375\" xlink:href=\"#DejaVuSans-64\"/>\r\n     <use x=\"222.070312\" xlink:href=\"#DejaVuSans-65\"/>\r\n     <use x=\"283.59375\" xlink:href=\"#DejaVuSans-6c\"/>\r\n     <use x=\"311.376953\" xlink:href=\"#DejaVuSans-20\"/>\r\n     <use x=\"343.164062\" xlink:href=\"#DejaVuSans-6c\"/>\r\n     <use x=\"370.947266\" xlink:href=\"#DejaVuSans-6f\"/>\r\n     <use x=\"432.128906\" xlink:href=\"#DejaVuSans-73\"/>\r\n     <use x=\"484.228516\" xlink:href=\"#DejaVuSans-73\"/>\r\n    </g>\r\n   </g>\r\n   <g id=\"legend_1\">\r\n    <g id=\"patch_7\">\r\n     <path d=\"M 313.128125 44.99625 \r\nL 368.403125 44.99625 \r\nQ 370.403125 44.99625 370.403125 42.99625 \r\nL 370.403125 29.318125 \r\nQ 370.403125 27.318125 368.403125 27.318125 \r\nL 313.128125 27.318125 \r\nQ 311.128125 27.318125 311.128125 29.318125 \r\nL 311.128125 42.99625 \r\nQ 311.128125 44.99625 313.128125 44.99625 \r\nz\r\n\" style=\"fill:#ffffff;opacity:0.8;stroke:#cccccc;stroke-linejoin:miter;\"/>\r\n    </g>\r\n    <g id=\"line2d_15\">\r\n     <path d=\"M 315.128125 35.416562 \r\nL 335.128125 35.416562 \r\n\" style=\"fill:none;stroke:#1f77b4;stroke-linecap:square;stroke-width:1.5;\"/>\r\n    </g>\r\n    <g id=\"line2d_16\"/>\r\n    <g id=\"text_17\">\r\n     <!-- train -->\r\n     <g transform=\"translate(343.128125 38.916562)scale(0.1 -0.1)\">\r\n      <defs>\r\n       <path d=\"M 1172 4494 \r\nL 1172 3500 \r\nL 2356 3500 \r\nL 2356 3053 \r\nL 1172 3053 \r\nL 1172 1153 \r\nQ 1172 725 1289 603 \r\nQ 1406 481 1766 481 \r\nL 2356 481 \r\nL 2356 0 \r\nL 1766 0 \r\nQ 1100 0 847 248 \r\nQ 594 497 594 1153 \r\nL 594 3053 \r\nL 172 3053 \r\nL 172 3500 \r\nL 594 3500 \r\nL 594 4494 \r\nL 1172 4494 \r\nz\r\n\" id=\"DejaVuSans-74\" transform=\"scale(0.015625)\"/>\r\n       <path d=\"M 2631 2963 \r\nQ 2534 3019 2420 3045 \r\nQ 2306 3072 2169 3072 \r\nQ 1681 3072 1420 2755 \r\nQ 1159 2438 1159 1844 \r\nL 1159 0 \r\nL 581 0 \r\nL 581 3500 \r\nL 1159 3500 \r\nL 1159 2956 \r\nQ 1341 3275 1631 3429 \r\nQ 1922 3584 2338 3584 \r\nQ 2397 3584 2469 3576 \r\nQ 2541 3569 2628 3553 \r\nL 2631 2963 \r\nz\r\n\" id=\"DejaVuSans-72\" transform=\"scale(0.015625)\"/>\r\n       <path d=\"M 2194 1759 \r\nQ 1497 1759 1228 1600 \r\nQ 959 1441 959 1056 \r\nQ 959 750 1161 570 \r\nQ 1363 391 1709 391 \r\nQ 2188 391 2477 730 \r\nQ 2766 1069 2766 1631 \r\nL 2766 1759 \r\nL 2194 1759 \r\nz\r\nM 3341 1997 \r\nL 3341 0 \r\nL 2766 0 \r\nL 2766 531 \r\nQ 2569 213 2275 61 \r\nQ 1981 -91 1556 -91 \r\nQ 1019 -91 701 211 \r\nQ 384 513 384 1019 \r\nQ 384 1609 779 1909 \r\nQ 1175 2209 1959 2209 \r\nL 2766 2209 \r\nL 2766 2266 \r\nQ 2766 2663 2505 2880 \r\nQ 2244 3097 1772 3097 \r\nQ 1472 3097 1187 3025 \r\nQ 903 2953 641 2809 \r\nL 641 3341 \r\nQ 956 3463 1253 3523 \r\nQ 1550 3584 1831 3584 \r\nQ 2591 3584 2966 3190 \r\nQ 3341 2797 3341 1997 \r\nz\r\n\" id=\"DejaVuSans-61\" transform=\"scale(0.015625)\"/>\r\n       <path d=\"M 603 3500 \r\nL 1178 3500 \r\nL 1178 0 \r\nL 603 0 \r\nL 603 3500 \r\nz\r\nM 603 4863 \r\nL 1178 4863 \r\nL 1178 4134 \r\nL 603 4134 \r\nL 603 4863 \r\nz\r\n\" id=\"DejaVuSans-69\" transform=\"scale(0.015625)\"/>\r\n       <path d=\"M 3513 2113 \r\nL 3513 0 \r\nL 2938 0 \r\nL 2938 2094 \r\nQ 2938 2591 2744 2837 \r\nQ 2550 3084 2163 3084 \r\nQ 1697 3084 1428 2787 \r\nQ 1159 2491 1159 1978 \r\nL 1159 0 \r\nL 581 0 \r\nL 581 3500 \r\nL 1159 3500 \r\nL 1159 2956 \r\nQ 1366 3272 1645 3428 \r\nQ 1925 3584 2291 3584 \r\nQ 2894 3584 3203 3211 \r\nQ 3513 2838 3513 2113 \r\nz\r\n\" id=\"DejaVuSans-6e\" transform=\"scale(0.015625)\"/>\r\n      </defs>\r\n      <use xlink:href=\"#DejaVuSans-74\"/>\r\n      <use x=\"39.208984\" xlink:href=\"#DejaVuSans-72\"/>\r\n      <use x=\"80.322266\" xlink:href=\"#DejaVuSans-61\"/>\r\n      <use x=\"141.601562\" xlink:href=\"#DejaVuSans-69\"/>\r\n      <use x=\"169.384766\" xlink:href=\"#DejaVuSans-6e\"/>\r\n     </g>\r\n    </g>\r\n   </g>\r\n  </g>\r\n </g>\r\n <defs>\r\n  <clipPath id=\"p9af52c6294\">\r\n   <rect height=\"217.44\" width=\"334.8\" x=\"40.603125\" y=\"22.318125\"/>\r\n  </clipPath>\r\n </defs>\r\n</svg>\r\n",
            "image/png": "[encoded data removed]"
          },
          "metadata": {
            "needs_background": "light"
          }
        }
      ],
      "source": [
        "\n",
        "plt.plot(history.history['loss'])\n",
        "plt.title('model loss')\n",
        "plt.ylabel('loss')\n",
        "plt.xlabel('epoch')\n",
        "plt.legend(['train'], loc='upper right')\n",
        "plt.show()"
      ]
    },
    {
      "cell_type": "code",
      "execution_count": 155,
      "metadata": {},
      "outputs": [
        {
          "output_type": "stream",
          "name": "stdout",
          "text": [
            "[[18.999996]]\n[[38.99999]]\n"
          ]
        }
      ],
      "source": [
        "print(model.predict([10.0]))\n",
        "print(model.predict([20.0]))"
      ]
    },
    {
      "source": [
        "- ### Inspecting Manually"
      ],
      "cell_type": "markdown",
      "metadata": {}
    },
    {
      "cell_type": "code",
      "execution_count": 157,
      "metadata": {},
      "outputs": [
        {
          "output_type": "stream",
          "name": "stdout",
          "text": [
            "[18.999996]\n"
          ]
        }
      ],
      "source": [
        "value_to_predict = 10.0\n",
        "layer1_w1 = (my_layer_1.get_weights()[0][0][0])\n",
        "layer1_w2 = (my_layer_1.get_weights()[0][0][1])\n",
        "layer1_b1 = (my_layer_1.get_weights()[1][0])\n",
        "layer1_b2 = (my_layer_1.get_weights()[1][1])\n",
        "\n",
        "layer2_w1 = (my_layer_2.get_weights()[0][0])\n",
        "layer2_w2 = (my_layer_2.get_weights()[0][1])\n",
        "layer2_b = (my_layer_2.get_weights()[1][0])\n",
        "\n",
        "neuron1_output = (layer1_w1 * value_to_predict) + layer1_b1\n",
        "neuron2_output = (layer1_w2 * value_to_predict) + layer1_b2\n",
        "neuron3_output = (layer2_w1 * neuron1_output) + (layer2_w2 * neuron2_output) + layer2_b\n",
        "print(neuron3_output)"
      ]
    },
    {
      "cell_type": "code",
      "execution_count": null,
      "metadata": {},
      "outputs": [],
      "source": []
    }
  ]
}