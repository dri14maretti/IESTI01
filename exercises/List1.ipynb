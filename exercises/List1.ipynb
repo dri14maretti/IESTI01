{
  "nbformat": 4,
  "nbformat_minor": 0,
  "metadata": {
    "colab": {
      "name": "List_1.ipynb",
      "provenance": [],
      "collapsed_sections": []
    },
    "kernelspec": {
      "name": "python385jvsc74a57bd0d7c91db6efb27241dc7f6f380fbdfa50e35bcd6db7293e24f2d5f262dd9ffeb4",
      "display_name": "Python 3.8.5 64-bit ('base': conda)"
    },
    "language_info": {
      "name": "python",
      "version": "3.8.5"
    }
  },
  "cells": [
    {
      "cell_type": "markdown",
      "metadata": {
        "id": "pHgZaeo0-efR"
      },
      "source": [
        "# IESTI01"
      ]
    },
    {
      "cell_type": "markdown",
      "metadata": {
        "id": "ijxKvT8iDNqq"
      },
      "source": [
        "## Notebook 1"
      ]
    },
    {
      "cell_type": "markdown",
      "metadata": {
        "id": "u62Ou4gQ8Fik"
      },
      "source": [
        "**Exercise 1**"
      ]
    },
    {
      "cell_type": "code",
      "metadata": {
        "id": "tFpug3R18DyY"
      },
      "source": [
        "pi = 3.14159 # approximate\n",
        "diameter = 3\n",
        "\n",
        "radius = diameter / 2\n",
        "\n",
        "area = pi * radius ** 2\n",
        "\n",
        "print(\"The area of a circle with radius {} is {}\".format(radius, area))"
      ],
      "execution_count": null,
      "outputs": []
    },
    {
      "cell_type": "markdown",
      "metadata": {
        "id": "5rxvBcDt8ooA"
      },
      "source": [
        "**Exercise 2**"
      ]
    },
    {
      "cell_type": "code",
      "metadata": {
        "id": "wGIBsBaq8sj1"
      },
      "source": [
        "a = [1, 2, 3]\n",
        "b = [3, 2, 1]\n",
        "\n",
        "a, b = b, a\n",
        "\n",
        "print(a, b)"
      ],
      "execution_count": null,
      "outputs": []
    },
    {
      "cell_type": "markdown",
      "metadata": {
        "id": "paEc7ecf9nH_"
      },
      "source": [
        "**Exercise 3**"
      ]
    },
    {
      "cell_type": "markdown",
      "metadata": {
        "id": "A5FnsCks-CF6"
      },
      "source": [
        "a)"
      ]
    },
    {
      "cell_type": "code",
      "metadata": {
        "id": "IefDRq2Q9r5m"
      },
      "source": [
        "(5 - 3) // 2"
      ],
      "execution_count": null,
      "outputs": []
    },
    {
      "cell_type": "markdown",
      "metadata": {
        "id": "5jNPCqf39zau"
      },
      "source": [
        "b)"
      ]
    },
    {
      "cell_type": "code",
      "metadata": {
        "id": "sG8lGXiB-KPu"
      },
      "source": [
        "8 - 3 * 2 - (1 + 1)"
      ],
      "execution_count": null,
      "outputs": []
    },
    {
      "cell_type": "markdown",
      "metadata": {
        "id": "tABidxwBAF1q"
      },
      "source": [
        "**Exercise 4**"
      ]
    },
    {
      "cell_type": "code",
      "metadata": {
        "id": "Q5Hoa2D0AKRA"
      },
      "source": [
        "# Variables representing the number of candies collected by alice, bob, and carol\n",
        "alice_candies = 121\n",
        "bob_candies = 77\n",
        "carol_candies = 109\n",
        "\n",
        "total_candies = alice_candies + bob_candies + carol_candies\n",
        "\n",
        "to_smash = total_candies % 3\n",
        "print(f\"They will smash {to_smash} candies\")"
      ],
      "execution_count": null,
      "outputs": []
    },
    {
      "cell_type": "markdown",
      "metadata": {
        "id": "iGBSIDPzDRMH"
      },
      "source": [
        "## Notebook 2"
      ]
    },
    {
      "source": [
        "**Exercise 1**"
      ],
      "cell_type": "markdown",
      "metadata": {}
    },
    {
      "cell_type": "code",
      "execution_count": 1,
      "metadata": {},
      "outputs": [
        {
          "output_type": "execute_result",
          "data": {
            "text/plain": [
              "3.14"
            ]
          },
          "metadata": {},
          "execution_count": 1
        }
      ],
      "source": [
        "def round_to_two_places(num):\n",
        "    return round(num, 2)\n",
        "\n",
        "round_to_two_places(3.14159)"
      ]
    },
    {
      "source": [
        "**Exercise 2**"
      ],
      "cell_type": "markdown",
      "metadata": {}
    },
    {
      "cell_type": "code",
      "execution_count": 7,
      "metadata": {},
      "outputs": [
        {
          "output_type": "execute_result",
          "data": {
            "text/plain": [
              "3700"
            ]
          },
          "metadata": {},
          "execution_count": 7
        }
      ],
      "source": [
        "round(2.30, -1)\n",
        "round(2.342212, -3)\n",
        "round(3735, -2)\n",
        "\n",
        "#It rounds integers taking their n last digits and turning it to 0"
      ]
    },
    {
      "source": [
        "**Exercise 3**"
      ],
      "cell_type": "markdown",
      "metadata": {}
    },
    {
      "cell_type": "code",
      "execution_count": 23,
      "metadata": {},
      "outputs": [
        {
          "output_type": "stream",
          "name": "stdout",
          "text": [
            "The number of smashed candies is = 1\n"
          ]
        }
      ],
      "source": [
        "def to_smash(total_candies, number_of_friends = 3):\n",
        "    return total_candies % number_of_friends\n",
        "\n",
        "candies = input(\"How many candies are there?\")\n",
        "friends = input(\"How many people are they going to be divide in?\")\n",
        "\n",
        "while not candies.isnumeric() and not friends.isnumeric():\n",
        "    candies = input(\"How many candies are there?\")\n",
        "    friends = input(\"How many people are they going to be split in?\")\n",
        "\n",
        "candies = int(candies)\n",
        "friends = int(friends)\n",
        "\n",
        "\n",
        "print(f\"The number of smashed candies is = {to_smash(candies, number_of_friends = friends)}\")"
      ]
    },
    {
      "source": [
        "**Exercise 4**"
      ],
      "cell_type": "markdown",
      "metadata": {}
    },
    {
      "cell_type": "code",
      "execution_count": 24,
      "metadata": {},
      "outputs": [
        {
          "output_type": "execute_result",
          "data": {
            "text/plain": [
              "10.0"
            ]
          },
          "metadata": {},
          "execution_count": 24
        }
      ],
      "source": [
        "round_to_two_places(9.9999) # was raound"
      ]
    },
    {
      "cell_type": "code",
      "execution_count": 29,
      "metadata": {},
      "outputs": [
        {
          "output_type": "stream",
          "name": "stdout",
          "text": [
            "5\n"
          ]
        }
      ],
      "source": [
        "x = -10\n",
        "y = 5\n",
        "#Which of the two variables above has the smallest absolute value?\n",
        "smallest_abs = min(abs(x), abs(y)) #abs() only receives one parameter.\n",
        "print(smallest_abs)"
      ]
    },
    {
      "cell_type": "code",
      "execution_count": 30,
      "metadata": {},
      "outputs": [
        {
          "output_type": "stream",
          "name": "stdout",
          "text": [
            "5\n"
          ]
        }
      ],
      "source": [
        "def f(x):\n",
        "    y = abs(x)\n",
        "    return y\n",
        "\n",
        "print(f(5))"
      ]
    },
    {
      "source": [
        "## Notebook 3"
      ],
      "cell_type": "markdown",
      "metadata": {}
    },
    {
      "source": [
        "**Exercise 1**"
      ],
      "cell_type": "markdown",
      "metadata": {}
    },
    {
      "cell_type": "code",
      "execution_count": 35,
      "metadata": {},
      "outputs": [
        {
          "output_type": "execute_result",
          "data": {
            "text/plain": [
              "0"
            ]
          },
          "metadata": {},
          "execution_count": 35
        }
      ],
      "source": [
        "def sign(number):\n",
        "    if(number == 0): \n",
        "        return 0\n",
        "    return -1 if(number < -1) else 1\n",
        "\n",
        "sign(0)"
      ]
    },
    {
      "source": [
        "**Exercise 2**"
      ],
      "cell_type": "markdown",
      "metadata": {}
    },
    {
      "cell_type": "code",
      "execution_count": 43,
      "metadata": {},
      "outputs": [
        {
          "output_type": "stream",
          "name": "stdout",
          "text": [
            "Spliting 1 candy between 3 people\n"
          ]
        },
        {
          "output_type": "execute_result",
          "data": {
            "text/plain": [
              "1"
            ]
          },
          "metadata": {},
          "execution_count": 43
        }
      ],
      "source": [
        "def to_smash(total_candies):\n",
        "    candy_form = \"candies\" if total_candies > 1 else \"candy\"\n",
        "    print(f\"Spliting {total_candies} {candy_form} between 3 people\")\n",
        "    return total_candies % 3\n",
        "\n",
        "to_smash(91)\n",
        "to_smash(1)"
      ]
    },
    {
      "cell_type": "code",
      "execution_count": null,
      "metadata": {},
      "outputs": [],
      "source": []
    }
  ]
}